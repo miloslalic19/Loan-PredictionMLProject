{
 "cells": [
  {
   "cell_type": "markdown",
   "metadata": {},
   "source": [
    "# Loan Prediction Practice <a id=99></a>"
   ]
  },
  {
   "cell_type": "markdown",
   "metadata": {},
   "source": [
    "1. [Problem Definition](#1)\n",
    "2. [Data](#2)\n",
    "3. [Evaluation](#3)\n",
    "4. [Features](#4)\n",
    "    - 4.1 [Loan Prediction Data Dictionary](#5)\n",
    "5. [Preparation](#6)\n",
    "    - 5.1 [Preparing the tools](#7)\n",
    "    - 5.2 [Load Data](#8)\n",
    "    - 5.3 [Data Understanding](#9)\n",
    "    - 5.4 [Convert strings to Categories](#10)\n",
    "    - 5.5 [Save Processed Data](#11)\n",
    "    - 5.6 [Fill missing values](#12)\n",
    "6. [Exploratory Data Analysis](#13)\n",
    "    - 6.1 [Univariate Analysis](#14)\n",
    "    - 6.2 [Bivariate Analysis](#15)\n",
    "7. [Data Preprocessing](#16)\n",
    "    - 7.1 [Conclusions from the EDA](#17)\n",
    "    - 7.2 [Packages](#18)\n",
    "    - 7.3 [Defining the features and target](#19)\n",
    "    - 7.4 [Train and validation split](#20)\n",
    "8. [Modeling](#21)\n",
    "    - 8.1 [Model Choices](#22)\n",
    "    - 8.2 [Model Comparison](#23)\n",
    "9. [Hyperparameter tuning and cross-validation](#24)\n",
    "    - 9.1 [Tuning KNeighborsClassifier by hand](#25)\n",
    "    - 9.2 [Tuning models with with RandomizedSearchCV](#26)\n",
    "    - 9.3 [Tuning a model with GridSearchCV](#27)\n",
    "10. [Evaluation](#28)\n",
    "    - 10.1 [Test Data](#29)\n",
    "    - 10.2 [Convert strings to Categories](#30)\n",
    "    - 10.3 [Fill missing values](#31)\n",
    "    - 10.4 [Making submissions](#32)\n",
    "11. [Feature importance](#33)"
   ]
  },
  {
   "cell_type": "markdown",
   "metadata": {},
   "source": [
    "### 1. Problem Definition <a id=1></a>\n",
    "[Back to top](#99)\n",
    "\n",
    "Objective of the work is to automate the loan eligibility process based on customer detail provided while filling online application form."
   ]
  },
  {
   "cell_type": "markdown",
   "metadata": {},
   "source": [
    "### 2. Data <a id=2></a>\n",
    "[Back to top](#99)\n",
    "\n",
    "I have downloaded thid dataset from [Kaggle](https://www.kaggle.com/shaijudatascience/loan-prediction-practice-av-competition).\n",
    "\n",
    "The dataset contains 13 attributes. **Attributes** (also called **features**) are the variables what we'll use to predict our **target variable** in our case Loan_Status.\n",
    "\n",
    "The data repository contains two files one is *train_csv * to train the model and the other is *test.csv * to predict the outcome from the trained dateset."
   ]
  },
  {
   "cell_type": "markdown",
   "metadata": {},
   "source": [
    "### 3. Evaluation <a id=3></a>\n",
    "[Back to top](#99)\n",
    "\n",
    "> If we can reach 80% accuracy at predicting whether or not a a customer can be approved for loan during the proof of concept, we'll pursure this project.\n"
   ]
  },
  {
   "cell_type": "markdown",
   "metadata": {},
   "source": [
    "### 4. Features <a id=4></a>\n",
    "[Back to top](#99)"
   ]
  },
  {
   "cell_type": "markdown",
   "metadata": {},
   "source": [
    "#### 4.1 Loan Prediction Data Dictionary <a id=5></a>\n",
    "\n",
    "The following are the features we'll use to predict our target variable (heart disease or no heart disease):\n",
    "\n",
    "* **1. Loan_ID** - Unique Loan ID \n",
    "* **2. Gender** - (1 = male; 0 = female) \n",
    "* **3. Married** - Applicant married(1 = yes; 0 = no)\n",
    "* **4. Dependents** - Number of dependents\n",
    "* **5. Education** - Application Education(Graduate / Under Graduate)\n",
    "* **6. Self_Employed** - Self Employed(1 = yes; 0 = no)\n",
    "* **7. ApplicantIncome** - Aplicant income\n",
    "* **8. CoapplicantIncome** - Coapplicant income\n",
    "* **9. Loan Amount** - Loan amount in thousands\n",
    "* **10. Loan_Amount_Term** - Term of loan in months\n",
    "* **11. Credit_History** - Credit history meets guidlines\n",
    "* **12. Property_area** - Property Area(Urban / Semi Urban / Rural)\n",
    "* **13. Loan_Status** - Loan approved(1 = yes; 0 = no)"
   ]
  },
  {
   "cell_type": "markdown",
   "metadata": {},
   "source": [
    "### 5. Preparation <a id=6></a>\n",
    "[Back to top](#99)"
   ]
  },
  {
   "cell_type": "markdown",
   "metadata": {},
   "source": [
    "#### 5.1 Preparing the tools <a id=7></a>"
   ]
  },
  {
   "cell_type": "code",
   "execution_count": 1,
   "metadata": {},
   "outputs": [],
   "source": [
    "import pandas as pd\n",
    "import numpy as np\n",
    "import matplotlib.pyplot as plt\n",
    "import seaborn as sns\n",
    "\n",
    "import warnings\n",
    "warnings.filterwarnings(\"ignore\")"
   ]
  },
  {
   "cell_type": "markdown",
   "metadata": {},
   "source": [
    "#### 5.2 Load Data <a id=8></a>"
   ]
  },
  {
   "cell_type": "code",
   "execution_count": 2,
   "metadata": {},
   "outputs": [],
   "source": [
    "df = pd.read_csv(\"loan_prediction/train.csv\")\n",
    "test_df = pd.read_csv(\"loan_prediction/test.csv\")"
   ]
  },
  {
   "cell_type": "markdown",
   "metadata": {},
   "source": [
    "#### 5.3 Data Understanding <a id=9></a>"
   ]
  },
  {
   "cell_type": "markdown",
   "metadata": {},
   "source": [
    "##### 5.3.1 Top 5 rows of our dataframe <a id=7></a>"
   ]
  },
  {
   "cell_type": "code",
   "execution_count": 3,
   "metadata": {},
   "outputs": [
    {
     "data": {
      "text/html": [
       "<div>\n",
       "<style scoped>\n",
       "    .dataframe tbody tr th:only-of-type {\n",
       "        vertical-align: middle;\n",
       "    }\n",
       "\n",
       "    .dataframe tbody tr th {\n",
       "        vertical-align: top;\n",
       "    }\n",
       "\n",
       "    .dataframe thead th {\n",
       "        text-align: right;\n",
       "    }\n",
       "</style>\n",
       "<table border=\"1\" class=\"dataframe\">\n",
       "  <thead>\n",
       "    <tr style=\"text-align: right;\">\n",
       "      <th></th>\n",
       "      <th>Loan_ID</th>\n",
       "      <th>Gender</th>\n",
       "      <th>Married</th>\n",
       "      <th>Dependents</th>\n",
       "      <th>Education</th>\n",
       "      <th>Self_Employed</th>\n",
       "      <th>ApplicantIncome</th>\n",
       "      <th>CoapplicantIncome</th>\n",
       "      <th>LoanAmount</th>\n",
       "      <th>Loan_Amount_Term</th>\n",
       "      <th>Credit_History</th>\n",
       "      <th>Property_Area</th>\n",
       "      <th>Loan_Status</th>\n",
       "    </tr>\n",
       "  </thead>\n",
       "  <tbody>\n",
       "    <tr>\n",
       "      <th>0</th>\n",
       "      <td>LP001002</td>\n",
       "      <td>Male</td>\n",
       "      <td>No</td>\n",
       "      <td>0</td>\n",
       "      <td>Graduate</td>\n",
       "      <td>No</td>\n",
       "      <td>5849</td>\n",
       "      <td>0.0</td>\n",
       "      <td>NaN</td>\n",
       "      <td>360.0</td>\n",
       "      <td>1.0</td>\n",
       "      <td>Urban</td>\n",
       "      <td>Y</td>\n",
       "    </tr>\n",
       "    <tr>\n",
       "      <th>1</th>\n",
       "      <td>LP001003</td>\n",
       "      <td>Male</td>\n",
       "      <td>Yes</td>\n",
       "      <td>1</td>\n",
       "      <td>Graduate</td>\n",
       "      <td>No</td>\n",
       "      <td>4583</td>\n",
       "      <td>1508.0</td>\n",
       "      <td>128.0</td>\n",
       "      <td>360.0</td>\n",
       "      <td>1.0</td>\n",
       "      <td>Rural</td>\n",
       "      <td>N</td>\n",
       "    </tr>\n",
       "    <tr>\n",
       "      <th>2</th>\n",
       "      <td>LP001005</td>\n",
       "      <td>Male</td>\n",
       "      <td>Yes</td>\n",
       "      <td>0</td>\n",
       "      <td>Graduate</td>\n",
       "      <td>Yes</td>\n",
       "      <td>3000</td>\n",
       "      <td>0.0</td>\n",
       "      <td>66.0</td>\n",
       "      <td>360.0</td>\n",
       "      <td>1.0</td>\n",
       "      <td>Urban</td>\n",
       "      <td>Y</td>\n",
       "    </tr>\n",
       "    <tr>\n",
       "      <th>3</th>\n",
       "      <td>LP001006</td>\n",
       "      <td>Male</td>\n",
       "      <td>Yes</td>\n",
       "      <td>0</td>\n",
       "      <td>Not Graduate</td>\n",
       "      <td>No</td>\n",
       "      <td>2583</td>\n",
       "      <td>2358.0</td>\n",
       "      <td>120.0</td>\n",
       "      <td>360.0</td>\n",
       "      <td>1.0</td>\n",
       "      <td>Urban</td>\n",
       "      <td>Y</td>\n",
       "    </tr>\n",
       "    <tr>\n",
       "      <th>4</th>\n",
       "      <td>LP001008</td>\n",
       "      <td>Male</td>\n",
       "      <td>No</td>\n",
       "      <td>0</td>\n",
       "      <td>Graduate</td>\n",
       "      <td>No</td>\n",
       "      <td>6000</td>\n",
       "      <td>0.0</td>\n",
       "      <td>141.0</td>\n",
       "      <td>360.0</td>\n",
       "      <td>1.0</td>\n",
       "      <td>Urban</td>\n",
       "      <td>Y</td>\n",
       "    </tr>\n",
       "  </tbody>\n",
       "</table>\n",
       "</div>"
      ],
      "text/plain": [
       "    Loan_ID Gender Married Dependents     Education Self_Employed  \\\n",
       "0  LP001002   Male      No          0      Graduate            No   \n",
       "1  LP001003   Male     Yes          1      Graduate            No   \n",
       "2  LP001005   Male     Yes          0      Graduate           Yes   \n",
       "3  LP001006   Male     Yes          0  Not Graduate            No   \n",
       "4  LP001008   Male      No          0      Graduate            No   \n",
       "\n",
       "   ApplicantIncome  CoapplicantIncome  LoanAmount  Loan_Amount_Term  \\\n",
       "0             5849                0.0         NaN             360.0   \n",
       "1             4583             1508.0       128.0             360.0   \n",
       "2             3000                0.0        66.0             360.0   \n",
       "3             2583             2358.0       120.0             360.0   \n",
       "4             6000                0.0       141.0             360.0   \n",
       "\n",
       "   Credit_History Property_Area Loan_Status  \n",
       "0             1.0         Urban           Y  \n",
       "1             1.0         Rural           N  \n",
       "2             1.0         Urban           Y  \n",
       "3             1.0         Urban           Y  \n",
       "4             1.0         Urban           Y  "
      ]
     },
     "execution_count": 3,
     "metadata": {},
     "output_type": "execute_result"
    }
   ],
   "source": [
    "df.head(5)"
   ]
  },
  {
   "cell_type": "markdown",
   "metadata": {},
   "source": [
    "##### 5.3.2 The shape of the data"
   ]
  },
  {
   "cell_type": "code",
   "execution_count": 4,
   "metadata": {},
   "outputs": [
    {
     "name": "stdout",
     "output_type": "stream",
     "text": [
      "The shape of the dataset is :  (614, 13)\n"
     ]
    }
   ],
   "source": [
    "print(\"The shape of the dataset is : \", df.shape)"
   ]
  },
  {
   "cell_type": "markdown",
   "metadata": {},
   "source": [
    "##### 5.3.3 Check the number of unique values in each column"
   ]
  },
  {
   "cell_type": "code",
   "execution_count": 5,
   "metadata": {},
   "outputs": [
    {
     "data": {
      "text/html": [
       "<div>\n",
       "<style scoped>\n",
       "    .dataframe tbody tr th:only-of-type {\n",
       "        vertical-align: middle;\n",
       "    }\n",
       "\n",
       "    .dataframe tbody tr th {\n",
       "        vertical-align: top;\n",
       "    }\n",
       "\n",
       "    .dataframe thead th {\n",
       "        text-align: right;\n",
       "    }\n",
       "</style>\n",
       "<table border=\"1\" class=\"dataframe\">\n",
       "  <thead>\n",
       "    <tr style=\"text-align: right;\">\n",
       "      <th></th>\n",
       "      <th>Unique Counter:</th>\n",
       "    </tr>\n",
       "  </thead>\n",
       "  <tbody>\n",
       "    <tr>\n",
       "      <th>Loan_ID</th>\n",
       "      <td>614</td>\n",
       "    </tr>\n",
       "    <tr>\n",
       "      <th>Gender</th>\n",
       "      <td>2</td>\n",
       "    </tr>\n",
       "    <tr>\n",
       "      <th>Married</th>\n",
       "      <td>2</td>\n",
       "    </tr>\n",
       "    <tr>\n",
       "      <th>Dependents</th>\n",
       "      <td>4</td>\n",
       "    </tr>\n",
       "    <tr>\n",
       "      <th>Education</th>\n",
       "      <td>2</td>\n",
       "    </tr>\n",
       "    <tr>\n",
       "      <th>Self_Employed</th>\n",
       "      <td>2</td>\n",
       "    </tr>\n",
       "    <tr>\n",
       "      <th>ApplicantIncome</th>\n",
       "      <td>505</td>\n",
       "    </tr>\n",
       "    <tr>\n",
       "      <th>CoapplicantIncome</th>\n",
       "      <td>287</td>\n",
       "    </tr>\n",
       "    <tr>\n",
       "      <th>LoanAmount</th>\n",
       "      <td>203</td>\n",
       "    </tr>\n",
       "    <tr>\n",
       "      <th>Loan_Amount_Term</th>\n",
       "      <td>10</td>\n",
       "    </tr>\n",
       "    <tr>\n",
       "      <th>Credit_History</th>\n",
       "      <td>2</td>\n",
       "    </tr>\n",
       "    <tr>\n",
       "      <th>Property_Area</th>\n",
       "      <td>3</td>\n",
       "    </tr>\n",
       "    <tr>\n",
       "      <th>Loan_Status</th>\n",
       "      <td>2</td>\n",
       "    </tr>\n",
       "  </tbody>\n",
       "</table>\n",
       "</div>"
      ],
      "text/plain": [
       "                   Unique Counter:\n",
       "Loan_ID                        614\n",
       "Gender                           2\n",
       "Married                          2\n",
       "Dependents                       4\n",
       "Education                        2\n",
       "Self_Employed                    2\n",
       "ApplicantIncome                505\n",
       "CoapplicantIncome              287\n",
       "LoanAmount                     203\n",
       "Loan_Amount_Term                10\n",
       "Credit_History                   2\n",
       "Property_Area                    3\n",
       "Loan_Status                      2"
      ]
     },
     "execution_count": 5,
     "metadata": {},
     "output_type": "execute_result"
    }
   ],
   "source": [
    "dict = {}\n",
    "for i in list(df.columns):\n",
    "    dict[i] = df[i].value_counts().shape[0]\n",
    "\n",
    "pd.DataFrame(dict,index=[\"Unique Counter:\"]).transpose()"
   ]
  },
  {
   "cell_type": "markdown",
   "metadata": {},
   "source": [
    "##### 5.3.5 Separating the columns in categorical and continuous"
   ]
  },
  {
   "cell_type": "code",
   "execution_count": 6,
   "metadata": {},
   "outputs": [
    {
     "name": "stdout",
     "output_type": "stream",
     "text": [
      "The categorial columns are :  ['Gender', 'Married', 'Dependents', 'Education', 'Self_Employed', 'Credit_History', 'Property_Area']\n",
      "The continuous columns are :  ['Loan_ID', 'ApplicantIncome', 'CoapplicantIncome', 'LoanAmount', 'Loan_Amount_Term']\n",
      "The target variable is :   ['Loan_Status']\n"
     ]
    }
   ],
   "source": [
    "cat_cols = ['Gender','Married','Dependents','Education','Self_Employed','Credit_History','Property_Area']\n",
    "con_cols = [\"Loan_ID\",\"ApplicantIncome\",\"CoapplicantIncome\",\"LoanAmount\",\"Loan_Amount_Term\"]\n",
    "target_col = [\"Loan_Status\"]\n",
    "print(\"The categorial columns are : \", cat_cols)\n",
    "print(\"The continuous columns are : \", con_cols)\n",
    "print(\"The target variable is :  \", target_col)"
   ]
  },
  {
   "cell_type": "markdown",
   "metadata": {},
   "source": [
    "##### 5.3.6 Summary statistics"
   ]
  },
  {
   "cell_type": "code",
   "execution_count": 7,
   "metadata": {},
   "outputs": [
    {
     "data": {
      "text/html": [
       "<div>\n",
       "<style scoped>\n",
       "    .dataframe tbody tr th:only-of-type {\n",
       "        vertical-align: middle;\n",
       "    }\n",
       "\n",
       "    .dataframe tbody tr th {\n",
       "        vertical-align: top;\n",
       "    }\n",
       "\n",
       "    .dataframe thead th {\n",
       "        text-align: right;\n",
       "    }\n",
       "</style>\n",
       "<table border=\"1\" class=\"dataframe\">\n",
       "  <thead>\n",
       "    <tr style=\"text-align: right;\">\n",
       "      <th></th>\n",
       "      <th>count</th>\n",
       "      <th>mean</th>\n",
       "      <th>std</th>\n",
       "      <th>min</th>\n",
       "      <th>25%</th>\n",
       "      <th>50%</th>\n",
       "      <th>75%</th>\n",
       "      <th>max</th>\n",
       "    </tr>\n",
       "  </thead>\n",
       "  <tbody>\n",
       "    <tr>\n",
       "      <th>ApplicantIncome</th>\n",
       "      <td>614.0</td>\n",
       "      <td>5403.459283</td>\n",
       "      <td>6109.041673</td>\n",
       "      <td>150.0</td>\n",
       "      <td>2877.5</td>\n",
       "      <td>3812.5</td>\n",
       "      <td>5795.00</td>\n",
       "      <td>81000.0</td>\n",
       "    </tr>\n",
       "    <tr>\n",
       "      <th>CoapplicantIncome</th>\n",
       "      <td>614.0</td>\n",
       "      <td>1621.245798</td>\n",
       "      <td>2926.248369</td>\n",
       "      <td>0.0</td>\n",
       "      <td>0.0</td>\n",
       "      <td>1188.5</td>\n",
       "      <td>2297.25</td>\n",
       "      <td>41667.0</td>\n",
       "    </tr>\n",
       "    <tr>\n",
       "      <th>LoanAmount</th>\n",
       "      <td>592.0</td>\n",
       "      <td>146.412162</td>\n",
       "      <td>85.587325</td>\n",
       "      <td>9.0</td>\n",
       "      <td>100.0</td>\n",
       "      <td>128.0</td>\n",
       "      <td>168.00</td>\n",
       "      <td>700.0</td>\n",
       "    </tr>\n",
       "    <tr>\n",
       "      <th>Loan_Amount_Term</th>\n",
       "      <td>600.0</td>\n",
       "      <td>342.000000</td>\n",
       "      <td>65.120410</td>\n",
       "      <td>12.0</td>\n",
       "      <td>360.0</td>\n",
       "      <td>360.0</td>\n",
       "      <td>360.00</td>\n",
       "      <td>480.0</td>\n",
       "    </tr>\n",
       "  </tbody>\n",
       "</table>\n",
       "</div>"
      ],
      "text/plain": [
       "                   count         mean          std    min     25%     50%  \\\n",
       "ApplicantIncome    614.0  5403.459283  6109.041673  150.0  2877.5  3812.5   \n",
       "CoapplicantIncome  614.0  1621.245798  2926.248369    0.0     0.0  1188.5   \n",
       "LoanAmount         592.0   146.412162    85.587325    9.0   100.0   128.0   \n",
       "Loan_Amount_Term   600.0   342.000000    65.120410   12.0   360.0   360.0   \n",
       "\n",
       "                       75%      max  \n",
       "ApplicantIncome    5795.00  81000.0  \n",
       "CoapplicantIncome  2297.25  41667.0  \n",
       "LoanAmount          168.00    700.0  \n",
       "Loan_Amount_Term    360.00    480.0  "
      ]
     },
     "execution_count": 7,
     "metadata": {},
     "output_type": "execute_result"
    }
   ],
   "source": [
    "df[con_cols].describe().transpose()"
   ]
  },
  {
   "cell_type": "markdown",
   "metadata": {},
   "source": [
    "##### 5.3.7 Data types "
   ]
  },
  {
   "cell_type": "code",
   "execution_count": 8,
   "metadata": {},
   "outputs": [
    {
     "data": {
      "text/plain": [
       "Loan_ID               object\n",
       "Gender                object\n",
       "Married               object\n",
       "Dependents            object\n",
       "Education             object\n",
       "Self_Employed         object\n",
       "ApplicantIncome        int64\n",
       "CoapplicantIncome    float64\n",
       "LoanAmount           float64\n",
       "Loan_Amount_Term     float64\n",
       "Credit_History       float64\n",
       "Property_Area         object\n",
       "Loan_Status           object\n",
       "dtype: object"
      ]
     },
     "execution_count": 8,
     "metadata": {},
     "output_type": "execute_result"
    }
   ],
   "source": [
    "df.dtypes"
   ]
  },
  {
   "cell_type": "markdown",
   "metadata": {},
   "source": [
    "##### 5.3.8 Missing values"
   ]
  },
  {
   "cell_type": "code",
   "execution_count": 9,
   "metadata": {},
   "outputs": [
    {
     "data": {
      "text/plain": [
       "Loan_ID               0\n",
       "Gender               13\n",
       "Married               3\n",
       "Dependents           15\n",
       "Education             0\n",
       "Self_Employed        32\n",
       "ApplicantIncome       0\n",
       "CoapplicantIncome     0\n",
       "LoanAmount           22\n",
       "Loan_Amount_Term     14\n",
       "Credit_History       50\n",
       "Property_Area         0\n",
       "Loan_Status           0\n",
       "dtype: int64"
      ]
     },
     "execution_count": 9,
     "metadata": {},
     "output_type": "execute_result"
    }
   ],
   "source": [
    "df.isnull().sum()"
   ]
  },
  {
   "cell_type": "markdown",
   "metadata": {},
   "source": [
    "##### 5.3.9 Duplicates"
   ]
  },
  {
   "cell_type": "code",
   "execution_count": 10,
   "metadata": {},
   "outputs": [
    {
     "name": "stdout",
     "output_type": "stream",
     "text": [
      "The categorial columns are :  0\n"
     ]
    }
   ],
   "source": [
    "duplicates_number = df.duplicated().sum()\n",
    "print(\"The categorial columns are : \", duplicates_number)"
   ]
  },
  {
   "cell_type": "markdown",
   "metadata": {},
   "source": [
    "#### 5.4 Convert strings to Categories <a id=10></a>"
   ]
  },
  {
   "cell_type": "markdown",
   "metadata": {},
   "source": [
    "##### 5.4.1 Check which columns contain strings"
   ]
  },
  {
   "cell_type": "code",
   "execution_count": 11,
   "metadata": {},
   "outputs": [
    {
     "name": "stdout",
     "output_type": "stream",
     "text": [
      "Loan_ID\n",
      "Gender\n",
      "Married\n",
      "Dependents\n",
      "Education\n",
      "Self_Employed\n",
      "Property_Area\n",
      "Loan_Status\n"
     ]
    }
   ],
   "source": [
    "for label, content in df.items():\n",
    "    if pd.api.types.is_string_dtype(content):\n",
    "        print(label)"
   ]
  },
  {
   "cell_type": "markdown",
   "metadata": {},
   "source": [
    "##### 5.4.2 Turn all of the string values into category values"
   ]
  },
  {
   "cell_type": "code",
   "execution_count": 12,
   "metadata": {},
   "outputs": [],
   "source": [
    "for label, content in df.items():\n",
    "    if pd.api.types.is_string_dtype(content):\n",
    "        df[label] = content.astype(\"category\").cat.as_ordered()"
   ]
  },
  {
   "cell_type": "code",
   "execution_count": 13,
   "metadata": {},
   "outputs": [
    {
     "name": "stdout",
     "output_type": "stream",
     "text": [
      "<class 'pandas.core.frame.DataFrame'>\n",
      "RangeIndex: 614 entries, 0 to 613\n",
      "Data columns (total 13 columns):\n",
      " #   Column             Non-Null Count  Dtype   \n",
      "---  ------             --------------  -----   \n",
      " 0   Loan_ID            614 non-null    category\n",
      " 1   Gender             601 non-null    category\n",
      " 2   Married            611 non-null    category\n",
      " 3   Dependents         599 non-null    category\n",
      " 4   Education          614 non-null    category\n",
      " 5   Self_Employed      582 non-null    category\n",
      " 6   ApplicantIncome    614 non-null    int64   \n",
      " 7   CoapplicantIncome  614 non-null    float64 \n",
      " 8   LoanAmount         592 non-null    float64 \n",
      " 9   Loan_Amount_Term   600 non-null    float64 \n",
      " 10  Credit_History     564 non-null    float64 \n",
      " 11  Property_Area      614 non-null    category\n",
      " 12  Loan_Status        614 non-null    category\n",
      "dtypes: category(8), float64(4), int64(1)\n",
      "memory usage: 55.1 KB\n"
     ]
    }
   ],
   "source": [
    "df.info()"
   ]
  },
  {
   "cell_type": "markdown",
   "metadata": {},
   "source": [
    "All of our data is categorical and I can now turn the categories into numbers, however it's still missing values. Before I start filling missing values I will save processed data."
   ]
  },
  {
   "cell_type": "markdown",
   "metadata": {},
   "source": [
    "#### 5.5 Save Processed Data <a id=11></a>"
   ]
  },
  {
   "cell_type": "code",
   "execution_count": 14,
   "metadata": {},
   "outputs": [],
   "source": [
    "df.to_csv(\"loan_prediction/cat_values.csv\", index=False)"
   ]
  },
  {
   "cell_type": "code",
   "execution_count": 15,
   "metadata": {},
   "outputs": [],
   "source": [
    "# Load data\n",
    "df_cat = pd.read_csv(\"loan_prediction/cat_values.csv\")"
   ]
  },
  {
   "cell_type": "code",
   "execution_count": 16,
   "metadata": {},
   "outputs": [
    {
     "data": {
      "text/plain": [
       "Loan_ID               0\n",
       "Gender               13\n",
       "Married               3\n",
       "Dependents           15\n",
       "Education             0\n",
       "Self_Employed        32\n",
       "ApplicantIncome       0\n",
       "CoapplicantIncome     0\n",
       "LoanAmount           22\n",
       "Loan_Amount_Term     14\n",
       "Credit_History       50\n",
       "Property_Area         0\n",
       "Loan_Status           0\n",
       "dtype: int64"
      ]
     },
     "execution_count": 16,
     "metadata": {},
     "output_type": "execute_result"
    }
   ],
   "source": [
    "# Check number of missing values\n",
    "df_cat.isna().sum()"
   ]
  },
  {
   "cell_type": "markdown",
   "metadata": {},
   "source": [
    "#### 5.6 Fill missing values <a id=12></a>"
   ]
  },
  {
   "cell_type": "markdown",
   "metadata": {},
   "source": [
    "##### 5.6.1 Filling numerical values first"
   ]
  },
  {
   "cell_type": "markdown",
   "metadata": {},
   "source": [
    "###### 5.6.1.1 Check which columns are numerical"
   ]
  },
  {
   "cell_type": "code",
   "execution_count": 17,
   "metadata": {},
   "outputs": [
    {
     "name": "stdout",
     "output_type": "stream",
     "text": [
      "ApplicantIncome\n",
      "CoapplicantIncome\n",
      "LoanAmount\n",
      "Loan_Amount_Term\n",
      "Credit_History\n"
     ]
    }
   ],
   "source": [
    "for label, content in df_cat.items():\n",
    "    if pd.api.types.is_numeric_dtype(content):\n",
    "        print(label)"
   ]
  },
  {
   "cell_type": "markdown",
   "metadata": {},
   "source": [
    "###### 5.6.1.2 Check for which numeric columns have null values\n"
   ]
  },
  {
   "cell_type": "code",
   "execution_count": 18,
   "metadata": {},
   "outputs": [
    {
     "name": "stdout",
     "output_type": "stream",
     "text": [
      "LoanAmount\n",
      "Loan_Amount_Term\n",
      "Credit_History\n"
     ]
    }
   ],
   "source": [
    "for label, content in df_cat.items():\n",
    "    if pd.api.types.is_numeric_dtype(content):\n",
    "        if pd.isnull(content).sum():\n",
    "            print(label)"
   ]
  },
  {
   "cell_type": "markdown",
   "metadata": {},
   "source": [
    "###### 5.6.1.3 Check those columns unique values"
   ]
  },
  {
   "cell_type": "code",
   "execution_count": 19,
   "metadata": {},
   "outputs": [
    {
     "data": {
      "text/plain": [
       "120.0    20\n",
       "110.0    17\n",
       "100.0    15\n",
       "187.0    12\n",
       "160.0    12\n",
       "         ..\n",
       "570.0     1\n",
       "300.0     1\n",
       "376.0     1\n",
       "117.0     1\n",
       "311.0     1\n",
       "Name: LoanAmount, Length: 203, dtype: int64"
      ]
     },
     "execution_count": 19,
     "metadata": {},
     "output_type": "execute_result"
    }
   ],
   "source": [
    "df_cat.LoanAmount.value_counts()"
   ]
  },
  {
   "cell_type": "code",
   "execution_count": 20,
   "metadata": {},
   "outputs": [
    {
     "data": {
      "text/plain": [
       "360.0    512\n",
       "180.0     44\n",
       "480.0     15\n",
       "300.0     13\n",
       "84.0       4\n",
       "240.0      4\n",
       "120.0      3\n",
       "36.0       2\n",
       "60.0       2\n",
       "12.0       1\n",
       "Name: Loan_Amount_Term, dtype: int64"
      ]
     },
     "execution_count": 20,
     "metadata": {},
     "output_type": "execute_result"
    }
   ],
   "source": [
    "df_cat.Loan_Amount_Term.value_counts()"
   ]
  },
  {
   "cell_type": "code",
   "execution_count": 21,
   "metadata": {},
   "outputs": [
    {
     "data": {
      "text/plain": [
       "1.0    475\n",
       "0.0     89\n",
       "Name: Credit_History, dtype: int64"
      ]
     },
     "execution_count": 21,
     "metadata": {},
     "output_type": "execute_result"
    }
   ],
   "source": [
    "df_cat.Credit_History.value_counts()"
   ]
  },
  {
   "cell_type": "markdown",
   "metadata": {},
   "source": [
    "* We're going to fill LoanAmount with the median of that column. \n",
    "* Because the highest percent of people has a Loan Term Amount of 360 I will fill that column with that value.\n",
    "* Credit_History column shows that most of the people had credits before so I will fill that column with 1."
   ]
  },
  {
   "cell_type": "markdown",
   "metadata": {},
   "source": [
    "###### 5.6.1.4 Fill numeric values"
   ]
  },
  {
   "cell_type": "code",
   "execution_count": 22,
   "metadata": {},
   "outputs": [],
   "source": [
    "df_cat['LoanAmount'] = df_cat['LoanAmount'].fillna((df_cat['LoanAmount'].mean()))\n",
    "df_cat['Loan_Amount_Term'] = df_cat['Loan_Amount_Term'].fillna(value = 360)\n",
    "df_cat['Credit_History'] = df_cat['Credit_History'].fillna(value = 1)"
   ]
  },
  {
   "cell_type": "markdown",
   "metadata": {},
   "source": [
    "###### 5.6.1.5 Lets check again if there's any null values"
   ]
  },
  {
   "cell_type": "code",
   "execution_count": 23,
   "metadata": {},
   "outputs": [],
   "source": [
    "for label, content in df_cat.items():\n",
    "    if pd.api.types.is_numeric_dtype(content):\n",
    "        if pd.isnull(content).sum():\n",
    "            print(label)"
   ]
  },
  {
   "cell_type": "markdown",
   "metadata": {},
   "source": [
    "##### 5.6.2 Filling and turning categorical variables to numbers"
   ]
  },
  {
   "cell_type": "markdown",
   "metadata": {},
   "source": [
    "###### 5.6.2.1 Check columns which are not numeric"
   ]
  },
  {
   "cell_type": "code",
   "execution_count": 24,
   "metadata": {},
   "outputs": [
    {
     "name": "stdout",
     "output_type": "stream",
     "text": [
      "Loan_ID\n",
      "Gender\n",
      "Married\n",
      "Dependents\n",
      "Education\n",
      "Self_Employed\n",
      "Property_Area\n",
      "Loan_Status\n"
     ]
    }
   ],
   "source": [
    "for label, content in df_cat.items():\n",
    "    if not pd.api.types.is_numeric_dtype(content):\n",
    "        print(label)"
   ]
  },
  {
   "cell_type": "markdown",
   "metadata": {},
   "source": [
    "###### 5.6.2.2 Turn all categorical columns to numeric"
   ]
  },
  {
   "cell_type": "code",
   "execution_count": 25,
   "metadata": {},
   "outputs": [],
   "source": [
    "for label, content in df_cat.items():\n",
    "    # Check columns which aren't numeric\n",
    "    if not pd.api.types.is_numeric_dtype(content):\n",
    "        # Add binary column to inidicate whether sample had missing value\n",
    "        df_cat[label+\"_is_missing\"] = pd.isnull(content)\n",
    "        # We add the +1 because pandas encodes missing categories as -1\n",
    "        df_cat[label] = pd.Categorical(content).codes+1"
   ]
  },
  {
   "cell_type": "markdown",
   "metadata": {},
   "source": [
    "###### 5.6.2.3 Check our DataFrame data types"
   ]
  },
  {
   "cell_type": "code",
   "execution_count": 26,
   "metadata": {},
   "outputs": [
    {
     "name": "stdout",
     "output_type": "stream",
     "text": [
      "<class 'pandas.core.frame.DataFrame'>\n",
      "RangeIndex: 614 entries, 0 to 613\n",
      "Data columns (total 21 columns):\n",
      " #   Column                    Non-Null Count  Dtype  \n",
      "---  ------                    --------------  -----  \n",
      " 0   Loan_ID                   614 non-null    int16  \n",
      " 1   Gender                    614 non-null    int8   \n",
      " 2   Married                   614 non-null    int8   \n",
      " 3   Dependents                614 non-null    int8   \n",
      " 4   Education                 614 non-null    int8   \n",
      " 5   Self_Employed             614 non-null    int8   \n",
      " 6   ApplicantIncome           614 non-null    int64  \n",
      " 7   CoapplicantIncome         614 non-null    float64\n",
      " 8   LoanAmount                614 non-null    float64\n",
      " 9   Loan_Amount_Term          614 non-null    float64\n",
      " 10  Credit_History            614 non-null    float64\n",
      " 11  Property_Area             614 non-null    int8   \n",
      " 12  Loan_Status               614 non-null    int8   \n",
      " 13  Loan_ID_is_missing        614 non-null    bool   \n",
      " 14  Gender_is_missing         614 non-null    bool   \n",
      " 15  Married_is_missing        614 non-null    bool   \n",
      " 16  Dependents_is_missing     614 non-null    bool   \n",
      " 17  Education_is_missing      614 non-null    bool   \n",
      " 18  Self_Employed_is_missing  614 non-null    bool   \n",
      " 19  Property_Area_is_missing  614 non-null    bool   \n",
      " 20  Loan_Status_is_missing    614 non-null    bool   \n",
      "dtypes: bool(8), float64(4), int16(1), int64(1), int8(7)\n",
      "memory usage: 34.3 KB\n"
     ]
    }
   ],
   "source": [
    "df_cat.info()"
   ]
  },
  {
   "cell_type": "markdown",
   "metadata": {},
   "source": [
    "###### 5.6.2.4 Missing values"
   ]
  },
  {
   "cell_type": "code",
   "execution_count": 27,
   "metadata": {},
   "outputs": [
    {
     "data": {
      "text/plain": [
       "Loan_ID                     0\n",
       "Gender                      0\n",
       "Married                     0\n",
       "Dependents                  0\n",
       "Education                   0\n",
       "Self_Employed               0\n",
       "ApplicantIncome             0\n",
       "CoapplicantIncome           0\n",
       "LoanAmount                  0\n",
       "Loan_Amount_Term            0\n",
       "Credit_History              0\n",
       "Property_Area               0\n",
       "Loan_Status                 0\n",
       "Loan_ID_is_missing          0\n",
       "Gender_is_missing           0\n",
       "Married_is_missing          0\n",
       "Dependents_is_missing       0\n",
       "Education_is_missing        0\n",
       "Self_Employed_is_missing    0\n",
       "Property_Area_is_missing    0\n",
       "Loan_Status_is_missing      0\n",
       "dtype: int64"
      ]
     },
     "execution_count": 27,
     "metadata": {},
     "output_type": "execute_result"
    }
   ],
   "source": [
    "df_cat.isna().sum()"
   ]
  },
  {
   "cell_type": "code",
   "execution_count": 28,
   "metadata": {},
   "outputs": [
    {
     "data": {
      "text/html": [
       "<div>\n",
       "<style scoped>\n",
       "    .dataframe tbody tr th:only-of-type {\n",
       "        vertical-align: middle;\n",
       "    }\n",
       "\n",
       "    .dataframe tbody tr th {\n",
       "        vertical-align: top;\n",
       "    }\n",
       "\n",
       "    .dataframe thead th {\n",
       "        text-align: right;\n",
       "    }\n",
       "</style>\n",
       "<table border=\"1\" class=\"dataframe\">\n",
       "  <thead>\n",
       "    <tr style=\"text-align: right;\">\n",
       "      <th></th>\n",
       "      <th>Loan_ID</th>\n",
       "      <th>Gender</th>\n",
       "      <th>Married</th>\n",
       "      <th>Dependents</th>\n",
       "      <th>Education</th>\n",
       "      <th>Self_Employed</th>\n",
       "      <th>ApplicantIncome</th>\n",
       "      <th>CoapplicantIncome</th>\n",
       "      <th>LoanAmount</th>\n",
       "      <th>Loan_Amount_Term</th>\n",
       "      <th>...</th>\n",
       "      <th>Property_Area</th>\n",
       "      <th>Loan_Status</th>\n",
       "      <th>Loan_ID_is_missing</th>\n",
       "      <th>Gender_is_missing</th>\n",
       "      <th>Married_is_missing</th>\n",
       "      <th>Dependents_is_missing</th>\n",
       "      <th>Education_is_missing</th>\n",
       "      <th>Self_Employed_is_missing</th>\n",
       "      <th>Property_Area_is_missing</th>\n",
       "      <th>Loan_Status_is_missing</th>\n",
       "    </tr>\n",
       "  </thead>\n",
       "  <tbody>\n",
       "    <tr>\n",
       "      <th>0</th>\n",
       "      <td>1</td>\n",
       "      <td>2</td>\n",
       "      <td>1</td>\n",
       "      <td>1</td>\n",
       "      <td>1</td>\n",
       "      <td>1</td>\n",
       "      <td>5849</td>\n",
       "      <td>0.0</td>\n",
       "      <td>146.412162</td>\n",
       "      <td>360.0</td>\n",
       "      <td>...</td>\n",
       "      <td>3</td>\n",
       "      <td>2</td>\n",
       "      <td>False</td>\n",
       "      <td>False</td>\n",
       "      <td>False</td>\n",
       "      <td>False</td>\n",
       "      <td>False</td>\n",
       "      <td>False</td>\n",
       "      <td>False</td>\n",
       "      <td>False</td>\n",
       "    </tr>\n",
       "    <tr>\n",
       "      <th>1</th>\n",
       "      <td>2</td>\n",
       "      <td>2</td>\n",
       "      <td>2</td>\n",
       "      <td>2</td>\n",
       "      <td>1</td>\n",
       "      <td>1</td>\n",
       "      <td>4583</td>\n",
       "      <td>1508.0</td>\n",
       "      <td>128.000000</td>\n",
       "      <td>360.0</td>\n",
       "      <td>...</td>\n",
       "      <td>1</td>\n",
       "      <td>1</td>\n",
       "      <td>False</td>\n",
       "      <td>False</td>\n",
       "      <td>False</td>\n",
       "      <td>False</td>\n",
       "      <td>False</td>\n",
       "      <td>False</td>\n",
       "      <td>False</td>\n",
       "      <td>False</td>\n",
       "    </tr>\n",
       "    <tr>\n",
       "      <th>2</th>\n",
       "      <td>3</td>\n",
       "      <td>2</td>\n",
       "      <td>2</td>\n",
       "      <td>1</td>\n",
       "      <td>1</td>\n",
       "      <td>2</td>\n",
       "      <td>3000</td>\n",
       "      <td>0.0</td>\n",
       "      <td>66.000000</td>\n",
       "      <td>360.0</td>\n",
       "      <td>...</td>\n",
       "      <td>3</td>\n",
       "      <td>2</td>\n",
       "      <td>False</td>\n",
       "      <td>False</td>\n",
       "      <td>False</td>\n",
       "      <td>False</td>\n",
       "      <td>False</td>\n",
       "      <td>False</td>\n",
       "      <td>False</td>\n",
       "      <td>False</td>\n",
       "    </tr>\n",
       "    <tr>\n",
       "      <th>3</th>\n",
       "      <td>4</td>\n",
       "      <td>2</td>\n",
       "      <td>2</td>\n",
       "      <td>1</td>\n",
       "      <td>2</td>\n",
       "      <td>1</td>\n",
       "      <td>2583</td>\n",
       "      <td>2358.0</td>\n",
       "      <td>120.000000</td>\n",
       "      <td>360.0</td>\n",
       "      <td>...</td>\n",
       "      <td>3</td>\n",
       "      <td>2</td>\n",
       "      <td>False</td>\n",
       "      <td>False</td>\n",
       "      <td>False</td>\n",
       "      <td>False</td>\n",
       "      <td>False</td>\n",
       "      <td>False</td>\n",
       "      <td>False</td>\n",
       "      <td>False</td>\n",
       "    </tr>\n",
       "    <tr>\n",
       "      <th>4</th>\n",
       "      <td>5</td>\n",
       "      <td>2</td>\n",
       "      <td>1</td>\n",
       "      <td>1</td>\n",
       "      <td>1</td>\n",
       "      <td>1</td>\n",
       "      <td>6000</td>\n",
       "      <td>0.0</td>\n",
       "      <td>141.000000</td>\n",
       "      <td>360.0</td>\n",
       "      <td>...</td>\n",
       "      <td>3</td>\n",
       "      <td>2</td>\n",
       "      <td>False</td>\n",
       "      <td>False</td>\n",
       "      <td>False</td>\n",
       "      <td>False</td>\n",
       "      <td>False</td>\n",
       "      <td>False</td>\n",
       "      <td>False</td>\n",
       "      <td>False</td>\n",
       "    </tr>\n",
       "  </tbody>\n",
       "</table>\n",
       "<p>5 rows × 21 columns</p>\n",
       "</div>"
      ],
      "text/plain": [
       "   Loan_ID  Gender  Married  Dependents  Education  Self_Employed  \\\n",
       "0        1       2        1           1          1              1   \n",
       "1        2       2        2           2          1              1   \n",
       "2        3       2        2           1          1              2   \n",
       "3        4       2        2           1          2              1   \n",
       "4        5       2        1           1          1              1   \n",
       "\n",
       "   ApplicantIncome  CoapplicantIncome  LoanAmount  Loan_Amount_Term  ...  \\\n",
       "0             5849                0.0  146.412162             360.0  ...   \n",
       "1             4583             1508.0  128.000000             360.0  ...   \n",
       "2             3000                0.0   66.000000             360.0  ...   \n",
       "3             2583             2358.0  120.000000             360.0  ...   \n",
       "4             6000                0.0  141.000000             360.0  ...   \n",
       "\n",
       "   Property_Area  Loan_Status  Loan_ID_is_missing  Gender_is_missing  \\\n",
       "0              3            2               False              False   \n",
       "1              1            1               False              False   \n",
       "2              3            2               False              False   \n",
       "3              3            2               False              False   \n",
       "4              3            2               False              False   \n",
       "\n",
       "   Married_is_missing  Dependents_is_missing  Education_is_missing  \\\n",
       "0               False                  False                 False   \n",
       "1               False                  False                 False   \n",
       "2               False                  False                 False   \n",
       "3               False                  False                 False   \n",
       "4               False                  False                 False   \n",
       "\n",
       "   Self_Employed_is_missing  Property_Area_is_missing  Loan_Status_is_missing  \n",
       "0                     False                     False                   False  \n",
       "1                     False                     False                   False  \n",
       "2                     False                     False                   False  \n",
       "3                     False                     False                   False  \n",
       "4                     False                     False                   False  \n",
       "\n",
       "[5 rows x 21 columns]"
      ]
     },
     "execution_count": 28,
     "metadata": {},
     "output_type": "execute_result"
    }
   ],
   "source": [
    "df_cat.head()"
   ]
  },
  {
   "cell_type": "markdown",
   "metadata": {},
   "source": [
    "**CONCLUSION**: Now our Data is Clean We can do Further Analysis."
   ]
  },
  {
   "cell_type": "markdown",
   "metadata": {},
   "source": [
    "### 6. Exploratory Data Analysis <a id=13></a>\n",
    "[back to top](#99)"
   ]
  },
  {
   "cell_type": "markdown",
   "metadata": {},
   "source": [
    "#### 6.1 Univariate Analysis <a id=14></a>"
   ]
  },
  {
   "cell_type": "markdown",
   "metadata": {},
   "source": [
    "##### 6.1.1 Count plot of categorical features"
   ]
  },
  {
   "cell_type": "code",
   "execution_count": 29,
   "metadata": {},
   "outputs": [
    {
     "data": {
      "image/png": "[encoded data removed]",
      "text/plain": [
       "<Figure size 1296x1080 with 9 Axes>"
      ]
     },
     "metadata": {},
     "output_type": "display_data"
    }
   ],
   "source": [
    "sns.set_theme(style=\"whitegrid\", palette=\"pastel\")\n",
    "\n",
    "fig, ((ax0, ax1, ax2), (ax3, ax4, ax5), (ax6, ax7, ax8)) = plt.subplots(nrows=3,\n",
    "                                                                        ncols=3,\n",
    "                                                                        figsize=(18, 15))\n",
    "\n",
    "ax0.spines[\"bottom\"].set_visible(False)\n",
    "ax0.spines[\"left\"].set_visible(False)\n",
    "ax0.spines[\"top\"].set_visible(False)\n",
    "ax0.spines[\"right\"].set_visible(False)\n",
    "ax0.tick_params(left=False, bottom=False)\n",
    "ax0.set_xticklabels([])\n",
    "ax0.set_yticklabels([])\n",
    "ax0.grid(False)\n",
    "ax0.text(0.5,0.5,\n",
    "         'Count plot for various\\n categorical features\\n_________________',\n",
    "         horizontalalignment='center',\n",
    "         verticalalignment='center',\n",
    "         fontsize=18, fontweight='bold',\n",
    "         color=\"#000000\")\n",
    "\n",
    "\n",
    "ax1.spines[\"bottom\"].set_visible(False)\n",
    "ax1.spines[\"left\"].set_visible(False)\n",
    "ax1.spines[\"top\"].set_visible(False)\n",
    "ax1.spines[\"right\"].set_visible(False)\n",
    "ax1.tick_params(left=False, bottom=False)\n",
    "ax1.set_xticklabels([])\n",
    "ax1.set_yticklabels([])\n",
    "ax1.grid(False)\n",
    "\n",
    "# Gender count\n",
    "ax2.set_title('Gender', fontdict={'fontsize': 14, 'fontweight': 'bold', 'color': '000000'})\n",
    "ax2.grid(color='#000000', linestyle=':', axis='y', zorder=0,  dashes=(1,5))\n",
    "sns.countplot(ax=ax2,data=df_cat,x='Gender')\n",
    "ax2.set_xlabel(\"\")\n",
    "ax2.set_ylabel(\"\")\n",
    "\n",
    "# Married count\n",
    "ax3.set_title('Married', fontdict={'fontsize': 14, 'fontweight': 'bold', 'color': '000000'})\n",
    "ax3.grid(color='#000000', linestyle=':', axis='y', zorder=0,  dashes=(1,5))\n",
    "sns.countplot(ax=ax3,data=df_cat,x='Married')\n",
    "ax3.set_xlabel(\"\")\n",
    "ax3.set_ylabel(\"\")\n",
    "\n",
    "# Dependents count\n",
    "ax4.set_title('Dependents', fontdict={'fontsize': 14, 'fontweight': 'bold', 'color': '000000'})\n",
    "ax4.grid(color='#000000', linestyle=':', axis='y', zorder=0,  dashes=(1,5))\n",
    "sns.countplot(ax=ax4,data=df_cat,x='Dependents')\n",
    "ax4.set_xlabel(\"\")\n",
    "ax4.set_ylabel(\"\")\n",
    "\n",
    "# Education count\n",
    "ax5.set_title('Education', fontdict={'fontsize': 14, 'fontweight': 'bold', 'color': '000000'})\n",
    "ax5.grid(color='#000000', linestyle=':', axis='y', zorder=0,  dashes=(1,5))\n",
    "sns.countplot(ax=ax5,data=df_cat,x='Education')\n",
    "ax5.set_xlabel(\"\")\n",
    "ax5.set_ylabel(\"\")\n",
    "\n",
    "# Self_Employed count\n",
    "ax6.set_title('Self_Employed', fontdict={'fontsize': 14, 'fontweight': 'bold', 'color': '000000'})\n",
    "ax6.grid(color='#000000', linestyle=':', axis='y', zorder=0,  dashes=(1,5))\n",
    "sns.countplot(ax=ax6,data=df_cat,x='Self_Employed')\n",
    "ax6.set_xlabel(\"\")\n",
    "ax6.set_ylabel(\"\")\n",
    "\n",
    "# Credit_History count\n",
    "ax7.set_title('Credit_History', fontdict={'fontsize': 14, 'fontweight': 'bold', 'color': '000000'})\n",
    "ax7.grid(color='#000000', linestyle=':', axis='y', zorder=0,  dashes=(1,5))\n",
    "sns.countplot(ax=ax7,data=df_cat,x='Credit_History')\n",
    "ax7.set_xlabel(\"\")\n",
    "ax7.set_ylabel(\"\")\n",
    "\n",
    "# Property_Area count\n",
    "ax8.set_title('Property_Area', fontdict={'fontsize': 14, 'fontweight': 'bold', 'color': '000000'})\n",
    "ax8.grid(color='#000000', linestyle=':', axis='y', zorder=0,  dashes=(1,5))\n",
    "sns.countplot(ax=ax8,data=df_cat,x='Property_Area')\n",
    "ax8.set_xlabel(\"\")\n",
    "ax8.set_ylabel(\"\")\n",
    "\n",
    "# Show values on bars\n",
    "def show_values_on_bars(axs):\n",
    "    def _show_on_single_plot(ax):        \n",
    "        for p in ax.patches:\n",
    "            _x = p.get_x() + p.get_width() / 2\n",
    "            _y = p.get_y() + p.get_height()\n",
    "            ax.text(_x, _y, p.get_height(), ha=\"center\") \n",
    "\n",
    "    if isinstance(axs, np.ndarray):\n",
    "        for idx, ax in np.ndenumerate(axs):\n",
    "            _show_on_single_plot(ax)\n",
    "    else:\n",
    "        _show_on_single_plot(axs)\n",
    "\n",
    "show_values_on_bars(ax1)\n",
    "show_values_on_bars(ax2)\n",
    "show_values_on_bars(ax3)\n",
    "show_values_on_bars(ax4)\n",
    "show_values_on_bars(ax5)\n",
    "show_values_on_bars(ax6)\n",
    "show_values_on_bars(ax7)\n",
    "show_values_on_bars(ax8)\n",
    "\n",
    "\n",
    "for s in [\"top\",\"right\",\"left\"]:\n",
    "    ax1.spines[s].set_visible(False)\n",
    "    ax2.spines[s].set_visible(False)\n",
    "    ax3.spines[s].set_visible(False)\n",
    "    ax4.spines[s].set_visible(False)\n",
    "    ax5.spines[s].set_visible(False)\n",
    "    ax6.spines[s].set_visible(False)\n",
    "    ax7.spines[s].set_visible(False)\n",
    "    ax8.spines[s].set_visible(False)"
   ]
  },
  {
   "cell_type": "markdown",
   "metadata": {},
   "source": [
    "##### 6.1.2 Boxen plot of continuous features"
   ]
  },
  {
   "cell_type": "code",
   "execution_count": 30,
   "metadata": {},
   "outputs": [
    {
     "data": {
      "image/png": "[encoded data removed]",
      "text/plain": [
       "<Figure size 1296x1080 with 6 Axes>"
      ]
     },
     "metadata": {},
     "output_type": "display_data"
    }
   ],
   "source": [
    "sns.set_theme(style=\"whitegrid\", palette=\"pastel\")\n",
    "\n",
    "fig, ((ax0, ax1, ax2), (ax3, ax4, ax5)) = plt.subplots(nrows=2,\n",
    "                                                       ncols=3,\n",
    "                                                       figsize=(18, 15))\n",
    "\n",
    "ax0.spines[\"bottom\"].set_visible(False)\n",
    "ax0.spines[\"left\"].set_visible(False)\n",
    "ax0.spines[\"top\"].set_visible(False)\n",
    "ax0.spines[\"right\"].set_visible(False)\n",
    "ax0.tick_params(left=False, bottom=False)\n",
    "ax0.set_xticklabels([])\n",
    "ax0.set_yticklabels([])\n",
    "ax0.grid(False)\n",
    "ax0.text(0.5,0.5,\n",
    "         'Boxen plot for various\\n continuous features\\n_________________',\n",
    "         horizontalalignment='center',\n",
    "         verticalalignment='center',\n",
    "         fontsize=18, fontweight='bold',\n",
    "         color=\"#000000\")\n",
    "\n",
    "ax1.spines[\"bottom\"].set_visible(False)\n",
    "ax1.spines[\"left\"].set_visible(False)\n",
    "ax1.spines[\"top\"].set_visible(False)\n",
    "ax1.spines[\"right\"].set_visible(False)\n",
    "ax1.tick_params(left=False, bottom=False)\n",
    "ax1.set_xticklabels([])\n",
    "ax1.set_yticklabels([])\n",
    "ax1.grid(False)\n",
    "\n",
    "# ApplicantIncome \n",
    "ax2.set_title('ApplicantIncome', fontdict={'fontsize': 14, 'fontweight': 'bold', 'color': '000000'})\n",
    "ax2.grid(color='#000000', linestyle=':', axis='y', zorder=0,  dashes=(1,5))\n",
    "sns.boxenplot(ax=ax2,y=df['ApplicantIncome'], palette=[\"#9ecaf1\"], width=0.6)\n",
    "ax2.set_xlabel(\"\")\n",
    "ax2.set_ylabel(\"\")\n",
    "\n",
    "# CoapplicantIncome \n",
    "ax3.set_title('CoapplicantIncome', fontdict={'fontsize': 14, 'fontweight': 'bold', 'color': '000000'})\n",
    "ax3.grid(color='#000000', linestyle=':', axis='y', zorder=0,  dashes=(1,5))\n",
    "sns.boxenplot(ax=ax3,y=df['CoapplicantIncome'], palette=[\"#ffb386\"], width=0.6)\n",
    "ax3.set_xlabel(\"\")\n",
    "ax3.set_ylabel(\"\")\n",
    "\n",
    "# LoanAmount \n",
    "ax4.set_title('LoanAmount', fontdict={'fontsize': 14, 'fontweight': 'bold', 'color': '000000'})\n",
    "ax4.grid(color='#000000', linestyle=':', axis='y', zorder=0,  dashes=(1,5))\n",
    "sns.boxenplot(ax=ax4,y=df['LoanAmount'], palette=[\"#8be4a6\"], width=0.6)\n",
    "ax4.set_xlabel(\"\")\n",
    "ax4.set_ylabel(\"\")\n",
    "\n",
    "# Loan_Amount_Term \n",
    "ax5.set_title('Loan_Amount_Term', fontdict={'fontsize': 14, 'fontweight': 'bold', 'color': '000000'})\n",
    "ax5.grid(color='#000000', linestyle=':', axis='y', zorder=0,  dashes=(1,5))\n",
    "sns.boxenplot(ax=ax5,y=df['Loan_Amount_Term'], palette=[\"#ff9f9c\"], width=0.6)\n",
    "ax5.set_xlabel(\"\")\n",
    "ax5.set_ylabel(\"\")\n",
    "\n",
    "for s in [\"top\",\"right\",\"left\"]:\n",
    "    ax1.spines[s].set_visible(False)\n",
    "    ax2.spines[s].set_visible(False)\n",
    "    ax3.spines[s].set_visible(False)\n",
    "    ax4.spines[s].set_visible(False)\n",
    "    ax5.spines[s].set_visible(False)"
   ]
  },
  {
   "cell_type": "markdown",
   "metadata": {},
   "source": [
    "##### 6.1.3 Count plot of target"
   ]
  },
  {
   "cell_type": "code",
   "execution_count": 31,
   "metadata": {},
   "outputs": [
    {
     "data": {
      "image/png": "[encoded data removed]",
      "text/plain": [
       "<Figure size 1296x504 with 2 Axes>"
      ]
     },
     "metadata": {},
     "output_type": "display_data"
    }
   ],
   "source": [
    "sns.set_theme(style=\"whitegrid\", palette=\"pastel\")\n",
    "\n",
    "fig, (ax0, ax1) = plt.subplots(nrows=1,\n",
    "                               ncols=2,\n",
    "                               figsize=(18, 7))\n",
    "\n",
    "ax0.text(0.5,0.5,\"Count of the Loan Status\\n___________\",\n",
    "        horizontalalignment = 'center',\n",
    "        verticalalignment = 'center',\n",
    "        fontsize = 18,\n",
    "        fontweight='bold',\n",
    "        color='#000000')\n",
    "\n",
    "ax0.set_xticklabels([])\n",
    "ax0.set_yticklabels([])\n",
    "ax0.tick_params(left=False, bottom=False)\n",
    "ax0.grid(False)\n",
    "\n",
    "# Loan Status\n",
    "ax1.set_title('Loan Status', fontdict={'fontsize': 14, 'fontweight': 'bold', 'color': '000000'})\n",
    "ax1.grid(color='#000000', linestyle=':', axis='y', zorder=0,  dashes=(1,5))\n",
    "sns.countplot(ax=ax1, data=df_cat, x = 'Loan_Status')\n",
    "ax1.set_xlabel(\"\")\n",
    "ax1.set_ylabel(\"\")\n",
    "ax1.set_xticklabels([\"Low chances of Loan approved\",\"High chances of Loan approved\"])\n",
    "\n",
    "# Show values on bars\n",
    "def show_values_on_bars(axs):\n",
    "    def _show_on_single_plot(ax):        \n",
    "        for p in ax.patches:\n",
    "            _x = p.get_x() + p.get_width() / 2\n",
    "            _y = p.get_y() + p.get_height()\n",
    "            ax.text(_x, _y, p.get_height(), ha=\"center\") \n",
    "\n",
    "    if isinstance(axs, np.ndarray):\n",
    "        for idx, ax in np.ndenumerate(axs):\n",
    "            _show_on_single_plot(ax)\n",
    "    else:\n",
    "        _show_on_single_plot(axs)\n",
    "\n",
    "show_values_on_bars(ax1)\n",
    "\n",
    "ax0.spines[\"top\"].set_visible(False)\n",
    "ax0.spines[\"left\"].set_visible(False)\n",
    "ax0.spines[\"bottom\"].set_visible(False)\n",
    "ax0.spines[\"right\"].set_visible(False)\n",
    "ax1.spines[\"top\"].set_visible(False)\n",
    "ax1.spines[\"left\"].set_visible(False)\n",
    "ax1.spines[\"right\"].set_visible(False)"
   ]
  },
  {
   "cell_type": "markdown",
   "metadata": {},
   "source": [
    "#### 6.2 Bivariate Analysis <a id=15></a>"
   ]
  },
  {
   "cell_type": "markdown",
   "metadata": {},
   "source": [
    "##### 6.2.1 Correlation matrix of continuous features"
   ]
  },
  {
   "cell_type": "code",
   "execution_count": 32,
   "metadata": {},
   "outputs": [
    {
     "data": {
      "text/html": [
       "<div>\n",
       "<style scoped>\n",
       "    .dataframe tbody tr th:only-of-type {\n",
       "        vertical-align: middle;\n",
       "    }\n",
       "\n",
       "    .dataframe tbody tr th {\n",
       "        vertical-align: top;\n",
       "    }\n",
       "\n",
       "    .dataframe thead th {\n",
       "        text-align: right;\n",
       "    }\n",
       "</style>\n",
       "<table border=\"1\" class=\"dataframe\">\n",
       "  <thead>\n",
       "    <tr style=\"text-align: right;\">\n",
       "      <th></th>\n",
       "      <th>ApplicantIncome</th>\n",
       "      <th>CoapplicantIncome</th>\n",
       "      <th>LoanAmount</th>\n",
       "      <th>Loan_Amount_Term</th>\n",
       "    </tr>\n",
       "  </thead>\n",
       "  <tbody>\n",
       "    <tr>\n",
       "      <th>ApplicantIncome</th>\n",
       "      <td>1.000000</td>\n",
       "      <td>-0.116605</td>\n",
       "      <td>0.570909</td>\n",
       "      <td>-0.045306</td>\n",
       "    </tr>\n",
       "    <tr>\n",
       "      <th>CoapplicantIncome</th>\n",
       "      <td>-0.116605</td>\n",
       "      <td>1.000000</td>\n",
       "      <td>0.188619</td>\n",
       "      <td>-0.059878</td>\n",
       "    </tr>\n",
       "    <tr>\n",
       "      <th>LoanAmount</th>\n",
       "      <td>0.570909</td>\n",
       "      <td>0.188619</td>\n",
       "      <td>1.000000</td>\n",
       "      <td>0.039447</td>\n",
       "    </tr>\n",
       "    <tr>\n",
       "      <th>Loan_Amount_Term</th>\n",
       "      <td>-0.045306</td>\n",
       "      <td>-0.059878</td>\n",
       "      <td>0.039447</td>\n",
       "      <td>1.000000</td>\n",
       "    </tr>\n",
       "  </tbody>\n",
       "</table>\n",
       "</div>"
      ],
      "text/plain": [
       "                   ApplicantIncome  CoapplicantIncome  LoanAmount  \\\n",
       "ApplicantIncome           1.000000          -0.116605    0.570909   \n",
       "CoapplicantIncome        -0.116605           1.000000    0.188619   \n",
       "LoanAmount                0.570909           0.188619    1.000000   \n",
       "Loan_Amount_Term         -0.045306          -0.059878    0.039447   \n",
       "\n",
       "                   Loan_Amount_Term  \n",
       "ApplicantIncome           -0.045306  \n",
       "CoapplicantIncome         -0.059878  \n",
       "LoanAmount                 0.039447  \n",
       "Loan_Amount_Term           1.000000  "
      ]
     },
     "execution_count": 32,
     "metadata": {},
     "output_type": "execute_result"
    }
   ],
   "source": [
    "df_corr = df[con_cols].corr().transpose()\n",
    "df_corr"
   ]
  },
  {
   "cell_type": "code",
   "execution_count": 33,
   "metadata": {},
   "outputs": [
    {
     "data": {
      "image/png": "[encoded data removed]",
      "text/plain": [
       "<Figure size 1296x504 with 3 Axes>"
      ]
     },
     "metadata": {},
     "output_type": "display_data"
    }
   ],
   "source": [
    "sns.set_theme(style=\"whitegrid\", palette=\"pastel\")\n",
    "\n",
    "fig, (ax0, ax1) = plt.subplots(nrows=1,\n",
    "                               ncols=2,\n",
    "                               figsize=(18, 7))\n",
    "\n",
    "ax0.text(0.5,0.5,\"Correlation Matrix\\n___________\",\n",
    "        horizontalalignment = 'center',\n",
    "        verticalalignment = 'center',\n",
    "        fontsize = 18,\n",
    "        fontweight='bold',\n",
    "        color='#000000')\n",
    "\n",
    "ax0.set_xticklabels([])\n",
    "ax0.set_yticklabels([])\n",
    "ax0.tick_params(left=False, bottom=False)\n",
    "ax0.grid(False)\n",
    "\n",
    "ax1.grid(color='#000000', linestyle=':', axis='y', zorder=0,  dashes=(1,5))\n",
    "df_corr = df_cat[con_cols].corr().transpose()\n",
    "mask = np.zeros_like(df_corr)\n",
    "mask[np.triu_indices_from(mask)] = True\n",
    "sns.heatmap(df_corr, mask = mask, fmt=\".2f\", annot=True,cmap='YlGnBu')\n",
    "ax1.set_xlabel(\"\")\n",
    "ax1.set_ylabel(\"\")\n",
    "\n",
    "ax0.spines[\"top\"].set_visible(False)\n",
    "ax0.spines[\"left\"].set_visible(False)\n",
    "ax0.spines[\"bottom\"].set_visible(False)\n",
    "ax0.spines[\"right\"].set_visible(False)\n",
    "ax1.spines[\"top\"].set_visible(False)\n",
    "ax1.spines[\"left\"].set_visible(False)\n",
    "ax1.spines[\"right\"].set_visible(False)"
   ]
  },
  {
   "cell_type": "markdown",
   "metadata": {},
   "source": [
    "##### 6.2.2 Heatmap of DataFrame"
   ]
  },
  {
   "cell_type": "code",
   "execution_count": 34,
   "metadata": {},
   "outputs": [
    {
     "data": {
      "image/png": "[encoded data removed]",
      "text/plain": [
       "<Figure size 1080x720 with 2 Axes>"
      ]
     },
     "metadata": {},
     "output_type": "display_data"
    }
   ],
   "source": [
    "corr_matrix = df_cat.loc[:, :'Loan_Status'].corr()\n",
    "plt.figure(figsize=(15, 10))\n",
    "sns.heatmap(corr_matrix, \n",
    "            annot=True, \n",
    "            linewidths=0.5, \n",
    "            fmt= \".2f\", \n",
    "            cmap=\"YlGnBu\");"
   ]
  },
  {
   "cell_type": "markdown",
   "metadata": {},
   "source": [
    "#### 6.2.3 Distribution of continuous features according to Loan_Status variable"
   ]
  },
  {
   "cell_type": "code",
   "execution_count": 35,
   "metadata": {},
   "outputs": [
    {
     "data": {
      "image/png": "[encoded data removed]",
      "text/plain": [
       "<Figure size 1296x1296 with 8 Axes>"
      ]
     },
     "metadata": {},
     "output_type": "display_data"
    }
   ],
   "source": [
    "sns.set_theme(style=\"whitegrid\", palette=\"pastel\")\n",
    "\n",
    "fig, ((ax0, ax1), (ax2, ax3), (ax4, ax5), (ax6, ax7)) = plt.subplots(nrows=4,\n",
    "                                                                     ncols=2,\n",
    "                                                                     figsize=(18, 18))\n",
    "# ApplicantIncome title\n",
    "ax0.text(0.5,0.5,\"Distribution of ApplicantIncome\\naccording to\\n Loan_Status variable\\n___________\",\n",
    "        horizontalalignment = 'center',\n",
    "        verticalalignment = 'center',\n",
    "        fontsize = 18,\n",
    "        fontweight='bold',\n",
    "        color='#000000')\n",
    "ax0.spines[\"bottom\"].set_visible(False)\n",
    "ax0.set_xticklabels([])\n",
    "ax0.set_yticklabels([])\n",
    "ax0.grid(False)\n",
    "ax0.tick_params(left=False, bottom=False)\n",
    "\n",
    "# ApplicantIncome\n",
    "ax1.grid(color='#000000', linestyle=':', axis='y', zorder=0,  dashes=(1,5))\n",
    "sns.kdeplot(ax=ax1, data=df_cat, x='ApplicantIncome',hue=\"Loan_Status\", fill=True,palette=[\"#9ecaf1\",\"#ffb386\"], alpha=.7, linewidth=0)\n",
    "ax1.set_xlabel(\"\")\n",
    "ax1.set_ylabel(\"\")\n",
    "\n",
    "# CoapplicantIncome title\n",
    "ax2.text(0.5,0.5,\"Distribution of CoapplicantIncome\\naccording to\\n Loan_Status variable\\n___________\",\n",
    "        horizontalalignment = 'center',\n",
    "        verticalalignment = 'center',\n",
    "        fontsize = 18,\n",
    "        fontweight='bold',\n",
    "        color='#000000')\n",
    "ax2.spines[\"bottom\"].set_visible(False)\n",
    "ax2.set_xticklabels([])\n",
    "ax2.set_yticklabels([])\n",
    "ax2.grid(False)\n",
    "ax2.tick_params(left=False, bottom=False)\n",
    "\n",
    "# CoapplicantIncome\n",
    "ax3.grid(color='#000000', linestyle=':', axis='y', zorder=0,  dashes=(1,5))\n",
    "sns.kdeplot(ax=ax3, data=df_cat, x='CoapplicantIncome',hue=\"Loan_Status\", fill=True,palette=[\"#9ecaf1\",\"#ffb386\"], alpha=.7, linewidth=0)\n",
    "ax3.set_xlabel(\"\")\n",
    "ax3.set_ylabel(\"\")\n",
    "\n",
    "# LoanAmount title\n",
    "ax4.text(0.5,0.5,\"Distribution of LoanAmount\\naccording to\\n Loan_Status variable\\n___________\",\n",
    "        horizontalalignment = 'center',\n",
    "        verticalalignment = 'center',\n",
    "        fontsize = 18,\n",
    "        fontweight='bold',\n",
    "        color='#000000')\n",
    "ax4.spines[\"bottom\"].set_visible(False)\n",
    "ax4.set_xticklabels([])\n",
    "ax4.set_yticklabels([])\n",
    "ax4.grid(False)\n",
    "ax4.tick_params(left=False, bottom=False)\n",
    "\n",
    "# LoanAmount\n",
    "ax5.grid(color='#000000', linestyle=':', axis='y', zorder=0,  dashes=(1,5))\n",
    "sns.kdeplot(ax=ax5, data=df_cat, x='LoanAmount',hue=\"Loan_Status\", fill=True,palette=[\"#9ecaf1\",\"#ffb386\"], alpha=.7, linewidth=0)\n",
    "ax5.set_xlabel(\"\")\n",
    "ax5.set_ylabel(\"\")\n",
    "\n",
    "# Loan_Amount_Term title\n",
    "ax6.text(0.5,0.5,\"Distribution of Loan_Amount_Term\\naccording to\\n Loan_Status variable\\n___________\",\n",
    "        horizontalalignment = 'center',\n",
    "        verticalalignment = 'center',\n",
    "        fontsize = 18,\n",
    "        fontweight='bold',\n",
    "        color='#000000')\n",
    "ax6.spines[\"bottom\"].set_visible(False)\n",
    "ax6.set_xticklabels([])\n",
    "ax6.set_yticklabels([])\n",
    "ax6.grid(False)\n",
    "ax6.tick_params(left=False, bottom=False)\n",
    "\n",
    "# Loan_Amount_Term\n",
    "ax7.grid(color='#000000', linestyle=':', axis='y', zorder=0,  dashes=(1,5))\n",
    "sns.kdeplot(ax=ax7, data=df_cat, x='Loan_Amount_Term',hue=\"Loan_Status\", fill=True,palette=[\"#9ecaf1\",\"#ffb386\"], alpha=.7, linewidth=0)\n",
    "ax7.set_xlabel(\"\")\n",
    "ax7.set_ylabel(\"\")\n",
    "\n",
    "for i in [\"top\",\"left\",\"right\"]:\n",
    "    ax0.spines[i].set_visible(False)\n",
    "    ax1.spines[i].set_visible(False)\n",
    "    ax2.spines[i].set_visible(False)\n",
    "    ax3.spines[i].set_visible(False)\n",
    "    ax4.spines[i].set_visible(False)\n",
    "    ax5.spines[i].set_visible(False)\n",
    "    ax6.spines[i].set_visible(False)\n",
    "    ax7.spines[i].set_visible(False)"
   ]
  },
  {
   "cell_type": "markdown",
   "metadata": {},
   "source": [
    "### 7. Data Preprocessing <a id=16></a>\n",
    "[Back to top](#99)"
   ]
  },
  {
   "cell_type": "markdown",
   "metadata": {},
   "source": [
    "#### 7.1 Conclusions from the EDA <a id=17></a>\n",
    "\n",
    "1. There are no NaN values in the data.\n",
    "2. The data consists of number of Males 4x more then Females.\n",
    "4. There is no apparent linear correlation between continuous variable according to the heatmap.\n",
    "5. The scatterplot heatmap matrix suggests that there might be some correlation between `Loan Status` and `Credit History`."
   ]
  },
  {
   "cell_type": "markdown",
   "metadata": {},
   "source": [
    "#### 7.2 Packages <a id=18></a>"
   ]
  },
  {
   "cell_type": "code",
   "execution_count": 36,
   "metadata": {},
   "outputs": [],
   "source": [
    "# Regular EDA and plotting libraries\n",
    "import numpy as np # np is short for numpy\n",
    "import pandas as pd # pandas is so commonly used, it's shortened to pd\n",
    "import matplotlib.pyplot as plt\n",
    "import seaborn as sns # seaborn gets shortened to sns\n",
    "\n",
    "# We want our plots to appear in the notebook\n",
    "%matplotlib inline \n",
    "\n",
    "## Models\n",
    "from sklearn.linear_model import LogisticRegression\n",
    "from sklearn.neighbors import KNeighborsClassifier\n",
    "from sklearn.ensemble import RandomForestClassifier\n",
    "from sklearn.tree import DecisionTreeClassifier\n",
    "from sklearn.svm import SVC\n",
    "\n",
    "\n",
    "## Model evaluators\n",
    "from sklearn.model_selection import train_test_split, cross_val_score\n",
    "from sklearn.model_selection import RandomizedSearchCV, GridSearchCV\n",
    "from sklearn.metrics import confusion_matrix, classification_report\n",
    "from sklearn.metrics import precision_score, recall_score, f1_score\n",
    "from sklearn.metrics import plot_roc_curve\n",
    "from sklearn import metrics"
   ]
  },
  {
   "cell_type": "markdown",
   "metadata": {},
   "source": [
    "#### 7.3 Defining the features and target <a id=19></a>"
   ]
  },
  {
   "cell_type": "code",
   "execution_count": 37,
   "metadata": {},
   "outputs": [],
   "source": [
    "df_true = df_cat.loc[:, :'Property_Area']\n",
    "X = df_true\n",
    "y = df_cat['Loan_Status'].values"
   ]
  },
  {
   "cell_type": "code",
   "execution_count": 38,
   "metadata": {
    "scrolled": false
   },
   "outputs": [
    {
     "data": {
      "text/plain": [
       "array([2, 1, 2, 2, 2, 2, 2, 1, 2, 1, 2, 2, 2, 1, 2, 2, 2, 1, 1, 2, 1, 2,\n",
       "       1, 1, 1, 2, 2, 2, 1, 2, 1, 1, 1, 2, 1, 2, 1, 2, 2, 2, 1, 2, 2, 2,\n",
       "       2, 2, 2, 2, 1, 2, 2, 2, 1, 1, 1, 2, 2, 1, 2, 2, 2, 2, 1, 1, 1, 1,\n",
       "       1, 2, 2, 1, 2, 2, 2, 1, 2, 1, 1, 1, 1, 2, 2, 2, 1, 1, 2, 2, 2, 2,\n",
       "       2, 2, 2, 2, 2, 2, 2, 1, 2, 2, 2, 2, 2, 2, 2, 2, 2, 2, 2, 1, 1, 2,\n",
       "       2, 2, 1, 2, 2, 2, 2, 2, 1, 2, 2, 2, 2, 2, 2, 2, 2, 2, 1, 1, 2, 2,\n",
       "       2, 2, 2, 1, 1, 2, 1, 1, 1, 2, 2, 2, 2, 2, 2, 2, 1, 2, 1, 2, 1, 1,\n",
       "       2, 2, 2, 2, 2, 2, 2, 1, 1, 2, 2, 2, 1, 2, 1, 2, 2, 2, 1, 2, 1, 2,\n",
       "       2, 1, 2, 1, 1, 1, 2, 1, 2, 2, 1, 2, 2, 2, 2, 1, 1, 2, 2, 1, 2, 2,\n",
       "       2, 1, 2, 2, 1, 2, 2, 2, 2, 2, 2, 1, 1, 1, 2, 2, 2, 2, 1, 2, 1, 2,\n",
       "       1, 2, 2, 2, 2, 1, 1, 2, 2, 2, 2, 2, 2, 2, 2, 2, 1, 2, 2, 2, 2, 1,\n",
       "       2, 2, 2, 1, 2, 2, 2, 2, 1, 1, 2, 2, 1, 2, 1, 1, 1, 1, 2, 2, 1, 2,\n",
       "       2, 2, 2, 2, 1, 2, 2, 2, 2, 2, 2, 2, 2, 2, 2, 2, 1, 2, 2, 2, 1, 2,\n",
       "       1, 2, 2, 2, 2, 1, 2, 1, 2, 2, 2, 2, 1, 1, 1, 2, 2, 2, 2, 1, 2, 1,\n",
       "       1, 2, 2, 2, 2, 2, 1, 2, 2, 2, 2, 1, 2, 2, 2, 2, 2, 1, 2, 2, 1, 2,\n",
       "       2, 2, 2, 2, 2, 2, 2, 2, 1, 2, 1, 1, 2, 2, 2, 2, 1, 2, 2, 2, 2, 1,\n",
       "       2, 1, 2, 2, 2, 1, 1, 2, 1, 2, 2, 2, 2, 1, 1, 1, 2, 1, 2, 2, 2, 1,\n",
       "       2, 2, 2, 2, 1, 2, 2, 2, 2, 2, 1, 2, 2, 1, 2, 2, 2, 2, 2, 2, 2, 2,\n",
       "       1, 2, 2, 1, 1, 1, 2, 2, 1, 2, 2, 2, 1, 1, 1, 2, 1, 2, 1, 2, 1, 1,\n",
       "       2, 2, 2, 1, 2, 1, 2, 2, 1, 2, 2, 2, 2, 1, 2, 2, 2, 2, 2, 2, 1, 2,\n",
       "       2, 2, 2, 2, 2, 2, 2, 1, 1, 1, 1, 2, 1, 2, 2, 2, 2, 1, 2, 1, 2, 2,\n",
       "       2, 2, 1, 2, 1, 2, 2, 1, 2, 1, 2, 2, 2, 2, 2, 1, 2, 1, 2, 2, 2, 2,\n",
       "       2, 2, 1, 1, 2, 1, 2, 2, 2, 2, 1, 2, 2, 2, 2, 1, 2, 2, 2, 1, 2, 2,\n",
       "       2, 1, 2, 2, 1, 2, 2, 1, 1, 2, 2, 1, 1, 1, 2, 2, 2, 2, 1, 2, 2, 2,\n",
       "       2, 2, 2, 2, 1, 1, 2, 2, 2, 2, 1, 2, 2, 1, 2, 2, 2, 2, 1, 2, 1, 2,\n",
       "       1, 2, 2, 1, 1, 2, 2, 2, 2, 2, 2, 2, 2, 2, 1, 2, 2, 1, 1, 1, 2, 1,\n",
       "       2, 1, 1, 2, 1, 2, 2, 2, 2, 1, 2, 1, 1, 1, 2, 2, 2, 1, 2, 1, 2, 2,\n",
       "       2, 2, 1, 1, 2, 2, 1, 2, 2, 2, 2, 1, 2, 2, 2, 2, 2, 2, 2, 1],\n",
       "      dtype=int8)"
      ]
     },
     "execution_count": 38,
     "metadata": {},
     "output_type": "execute_result"
    }
   ],
   "source": [
    "y"
   ]
  },
  {
   "cell_type": "code",
   "execution_count": 39,
   "metadata": {},
   "outputs": [
    {
     "data": {
      "text/html": [
       "<div>\n",
       "<style scoped>\n",
       "    .dataframe tbody tr th:only-of-type {\n",
       "        vertical-align: middle;\n",
       "    }\n",
       "\n",
       "    .dataframe tbody tr th {\n",
       "        vertical-align: top;\n",
       "    }\n",
       "\n",
       "    .dataframe thead th {\n",
       "        text-align: right;\n",
       "    }\n",
       "</style>\n",
       "<table border=\"1\" class=\"dataframe\">\n",
       "  <thead>\n",
       "    <tr style=\"text-align: right;\">\n",
       "      <th></th>\n",
       "      <th>Loan_ID</th>\n",
       "      <th>Gender</th>\n",
       "      <th>Married</th>\n",
       "      <th>Dependents</th>\n",
       "      <th>Education</th>\n",
       "      <th>Self_Employed</th>\n",
       "      <th>ApplicantIncome</th>\n",
       "      <th>CoapplicantIncome</th>\n",
       "      <th>LoanAmount</th>\n",
       "      <th>Loan_Amount_Term</th>\n",
       "      <th>Credit_History</th>\n",
       "      <th>Property_Area</th>\n",
       "    </tr>\n",
       "  </thead>\n",
       "  <tbody>\n",
       "    <tr>\n",
       "      <th>0</th>\n",
       "      <td>1</td>\n",
       "      <td>2</td>\n",
       "      <td>1</td>\n",
       "      <td>1</td>\n",
       "      <td>1</td>\n",
       "      <td>1</td>\n",
       "      <td>5849</td>\n",
       "      <td>0.0</td>\n",
       "      <td>146.412162</td>\n",
       "      <td>360.0</td>\n",
       "      <td>1.0</td>\n",
       "      <td>3</td>\n",
       "    </tr>\n",
       "    <tr>\n",
       "      <th>1</th>\n",
       "      <td>2</td>\n",
       "      <td>2</td>\n",
       "      <td>2</td>\n",
       "      <td>2</td>\n",
       "      <td>1</td>\n",
       "      <td>1</td>\n",
       "      <td>4583</td>\n",
       "      <td>1508.0</td>\n",
       "      <td>128.000000</td>\n",
       "      <td>360.0</td>\n",
       "      <td>1.0</td>\n",
       "      <td>1</td>\n",
       "    </tr>\n",
       "    <tr>\n",
       "      <th>2</th>\n",
       "      <td>3</td>\n",
       "      <td>2</td>\n",
       "      <td>2</td>\n",
       "      <td>1</td>\n",
       "      <td>1</td>\n",
       "      <td>2</td>\n",
       "      <td>3000</td>\n",
       "      <td>0.0</td>\n",
       "      <td>66.000000</td>\n",
       "      <td>360.0</td>\n",
       "      <td>1.0</td>\n",
       "      <td>3</td>\n",
       "    </tr>\n",
       "    <tr>\n",
       "      <th>3</th>\n",
       "      <td>4</td>\n",
       "      <td>2</td>\n",
       "      <td>2</td>\n",
       "      <td>1</td>\n",
       "      <td>2</td>\n",
       "      <td>1</td>\n",
       "      <td>2583</td>\n",
       "      <td>2358.0</td>\n",
       "      <td>120.000000</td>\n",
       "      <td>360.0</td>\n",
       "      <td>1.0</td>\n",
       "      <td>3</td>\n",
       "    </tr>\n",
       "    <tr>\n",
       "      <th>4</th>\n",
       "      <td>5</td>\n",
       "      <td>2</td>\n",
       "      <td>1</td>\n",
       "      <td>1</td>\n",
       "      <td>1</td>\n",
       "      <td>1</td>\n",
       "      <td>6000</td>\n",
       "      <td>0.0</td>\n",
       "      <td>141.000000</td>\n",
       "      <td>360.0</td>\n",
       "      <td>1.0</td>\n",
       "      <td>3</td>\n",
       "    </tr>\n",
       "  </tbody>\n",
       "</table>\n",
       "</div>"
      ],
      "text/plain": [
       "   Loan_ID  Gender  Married  Dependents  Education  Self_Employed  \\\n",
       "0        1       2        1           1          1              1   \n",
       "1        2       2        2           2          1              1   \n",
       "2        3       2        2           1          1              2   \n",
       "3        4       2        2           1          2              1   \n",
       "4        5       2        1           1          1              1   \n",
       "\n",
       "   ApplicantIncome  CoapplicantIncome  LoanAmount  Loan_Amount_Term  \\\n",
       "0             5849                0.0  146.412162             360.0   \n",
       "1             4583             1508.0  128.000000             360.0   \n",
       "2             3000                0.0   66.000000             360.0   \n",
       "3             2583             2358.0  120.000000             360.0   \n",
       "4             6000                0.0  141.000000             360.0   \n",
       "\n",
       "   Credit_History  Property_Area  \n",
       "0             1.0              3  \n",
       "1             1.0              1  \n",
       "2             1.0              3  \n",
       "3             1.0              3  \n",
       "4             1.0              3  "
      ]
     },
     "execution_count": 39,
     "metadata": {},
     "output_type": "execute_result"
    }
   ],
   "source": [
    "X.head()"
   ]
  },
  {
   "cell_type": "markdown",
   "metadata": {},
   "source": [
    "#### 7.4 Train and validation split <a id=20></a>"
   ]
  },
  {
   "cell_type": "code",
   "execution_count": 40,
   "metadata": {},
   "outputs": [
    {
     "name": "stdout",
     "output_type": "stream",
     "text": [
      "The shape of X_train is: (491, 12)\n",
      "The shape of X_val is: (123, 12)\n",
      "The shape of y_train is: (491,)\n",
      "The shape of y_val is: (123,)\n"
     ]
    }
   ],
   "source": [
    "# Random seed for reproducibility\n",
    "np.random.seed(10)\n",
    "\n",
    "# Split into train & validation set\n",
    "X_train, X_val, y_train, y_val = train_test_split(X, # independent variables \n",
    "                                                    y, # dependent variable\n",
    "                                                    test_size = 0.2) # percentage of data to use for test set\n",
    "\n",
    "print(\"The shape of X_train is:\", X_train.shape)\n",
    "print(\"The shape of X_val is:\", X_val.shape)\n",
    "print(\"The shape of y_train is:\", y_train.shape)\n",
    "print(\"The shape of y_val is:\", y_val.shape)"
   ]
  },
  {
   "cell_type": "markdown",
   "metadata": {},
   "source": [
    "### 8. Modeling <a id=21></a>\n",
    "[back to top](#99)"
   ]
  },
  {
   "cell_type": "markdown",
   "metadata": {},
   "source": [
    "#### 8.1 Model choices <a id=22></a>\n",
    "\n",
    "Now because I have got the data prepared, I can start to fit models. I will be using the following and comparing their results.\n",
    "\n",
    "1. Logistic Regression - `LogisticRegression()`\n",
    "2. K-Nearest Neighbors - `KNeighboursClassifier()`\n",
    "3. RandomForest - `RandomForestClassifier()`\n",
    "4. Decision Tree - `DecisionTreeClassifier()`\n",
    "5. SVC - `SVC()`"
   ]
  },
  {
   "cell_type": "code",
   "execution_count": 41,
   "metadata": {},
   "outputs": [
    {
     "name": "stdout",
     "output_type": "stream",
     "text": [
      "<class 'pandas.core.frame.DataFrame'>\n",
      "RangeIndex: 614 entries, 0 to 613\n",
      "Data columns (total 21 columns):\n",
      " #   Column                    Non-Null Count  Dtype  \n",
      "---  ------                    --------------  -----  \n",
      " 0   Loan_ID                   614 non-null    int16  \n",
      " 1   Gender                    614 non-null    int8   \n",
      " 2   Married                   614 non-null    int8   \n",
      " 3   Dependents                614 non-null    int8   \n",
      " 4   Education                 614 non-null    int8   \n",
      " 5   Self_Employed             614 non-null    int8   \n",
      " 6   ApplicantIncome           614 non-null    int64  \n",
      " 7   CoapplicantIncome         614 non-null    float64\n",
      " 8   LoanAmount                614 non-null    float64\n",
      " 9   Loan_Amount_Term          614 non-null    float64\n",
      " 10  Credit_History            614 non-null    float64\n",
      " 11  Property_Area             614 non-null    int8   \n",
      " 12  Loan_Status               614 non-null    int8   \n",
      " 13  Loan_ID_is_missing        614 non-null    bool   \n",
      " 14  Gender_is_missing         614 non-null    bool   \n",
      " 15  Married_is_missing        614 non-null    bool   \n",
      " 16  Dependents_is_missing     614 non-null    bool   \n",
      " 17  Education_is_missing      614 non-null    bool   \n",
      " 18  Self_Employed_is_missing  614 non-null    bool   \n",
      " 19  Property_Area_is_missing  614 non-null    bool   \n",
      " 20  Loan_Status_is_missing    614 non-null    bool   \n",
      "dtypes: bool(8), float64(4), int16(1), int64(1), int8(7)\n",
      "memory usage: 34.3 KB\n"
     ]
    }
   ],
   "source": [
    "df_cat.info()"
   ]
  },
  {
   "cell_type": "code",
   "execution_count": 42,
   "metadata": {},
   "outputs": [],
   "source": [
    "# Put models in a dictionary\n",
    "models = {\"KNN\": KNeighborsClassifier(),\n",
    "          \"Logistic Regression\": LogisticRegression(), \n",
    "          \"Random Forest\": RandomForestClassifier(),\n",
    "          \"Decision Tree\": DecisionTreeClassifier(),\n",
    "          \"SVC\": SVC()}\n",
    "\n",
    "# Create function to fit and score models\n",
    "def fit_and_score(models, X_train, X_val, y_train, y_val):\n",
    "    \"\"\"\n",
    "    Fits and evaluates given machine learning models.\n",
    "    models : a dict of different Scikit-Learn machine learning models\n",
    "    X_train : training data\n",
    "    X_test : testing data\n",
    "    y_train : labels assosciated with training data\n",
    "    y_test : labels assosciated with test data\n",
    "    \"\"\"\n",
    "    # Random seed for reproducible results\n",
    "    np.random.seed(10)\n",
    "    # Make a list to keep model scores\n",
    "    model_scores = {}\n",
    "    # Loop through models\n",
    "    for name, model in models.items():\n",
    "        # Fit the model to the data\n",
    "        model.fit(X_train, y_train)\n",
    "        y_pred=model.predict(X_val)\n",
    "        # Evaluate the model and append its score to model_scores\n",
    "        model_scores[name] = metrics.accuracy_score(y_val,y_pred)\n",
    "    return model_scores"
   ]
  },
  {
   "cell_type": "code",
   "execution_count": 43,
   "metadata": {},
   "outputs": [
    {
     "data": {
      "text/plain": [
       "{'KNN': 0.6097560975609756,\n",
       " 'Logistic Regression': 0.7967479674796748,\n",
       " 'Random Forest': 0.7560975609756098,\n",
       " 'Decision Tree': 0.7073170731707317,\n",
       " 'SVC': 0.7073170731707317}"
      ]
     },
     "execution_count": 43,
     "metadata": {},
     "output_type": "execute_result"
    }
   ],
   "source": [
    "model_pred = fit_and_score(models=models,\n",
    "                             X_train=X_train,\n",
    "                             X_val=X_val,\n",
    "                             y_train=y_train,\n",
    "                             y_val=y_val)\n",
    "model_pred"
   ]
  },
  {
   "cell_type": "markdown",
   "metadata": {},
   "source": [
    "#### 8.2 Model Comparison <a id=23></a>"
   ]
  },
  {
   "cell_type": "code",
   "execution_count": 44,
   "metadata": {},
   "outputs": [
    {
     "data": {
      "text/html": [
       "<div>\n",
       "<style scoped>\n",
       "    .dataframe tbody tr th:only-of-type {\n",
       "        vertical-align: middle;\n",
       "    }\n",
       "\n",
       "    .dataframe tbody tr th {\n",
       "        vertical-align: top;\n",
       "    }\n",
       "\n",
       "    .dataframe thead th {\n",
       "        text-align: right;\n",
       "    }\n",
       "</style>\n",
       "<table border=\"1\" class=\"dataframe\">\n",
       "  <thead>\n",
       "    <tr style=\"text-align: right;\">\n",
       "      <th></th>\n",
       "      <th>KNN</th>\n",
       "      <th>Logistic Regression</th>\n",
       "      <th>Random Forest</th>\n",
       "      <th>Decision Tree</th>\n",
       "      <th>SVC</th>\n",
       "    </tr>\n",
       "  </thead>\n",
       "  <tbody>\n",
       "    <tr>\n",
       "      <th>Accuracy</th>\n",
       "      <td>0.609756</td>\n",
       "      <td>0.796748</td>\n",
       "      <td>0.756098</td>\n",
       "      <td>0.707317</td>\n",
       "      <td>0.707317</td>\n",
       "    </tr>\n",
       "  </tbody>\n",
       "</table>\n",
       "</div>"
      ],
      "text/plain": [
       "               KNN  Logistic Regression  Random Forest  Decision Tree  \\\n",
       "Accuracy  0.609756             0.796748       0.756098       0.707317   \n",
       "\n",
       "               SVC  \n",
       "Accuracy  0.707317  "
      ]
     },
     "execution_count": 44,
     "metadata": {},
     "output_type": "execute_result"
    }
   ],
   "source": [
    "model_compare = pd.DataFrame(model_pred, index=['Accuracy'])\n",
    "model_compare"
   ]
  },
  {
   "cell_type": "code",
   "execution_count": 45,
   "metadata": {},
   "outputs": [
    {
     "data": {
      "image/png": "[encoded data removed]",
      "text/plain": [
       "<Figure size 1296x504 with 2 Axes>"
      ]
     },
     "metadata": {},
     "output_type": "display_data"
    }
   ],
   "source": [
    "sns.set_theme(style=\"whitegrid\", palette=\"pastel\")\n",
    "\n",
    "fig, (ax0, ax1) = plt.subplots(nrows=1,\n",
    "                               ncols=2,\n",
    "                               figsize=(18, 7))\n",
    "\n",
    "# Title of the plot\n",
    "ax0.text(0.5,0.5,\"Model Comparison\\n___________\",\n",
    "        horizontalalignment = 'center',\n",
    "        verticalalignment = 'center',\n",
    "        fontsize = 18,\n",
    "        fontweight='bold',\n",
    "        color='#000000')\n",
    "\n",
    "ax0.set_xticklabels([])\n",
    "ax0.set_yticklabels([])\n",
    "ax0.tick_params(left=False, bottom=False)\n",
    "ax0.grid(False)\n",
    "\n",
    "# Target Count\n",
    "ax1.set(ylim=(0.4, 0.8))\n",
    "ax1.grid(color='#000000', linestyle=':', axis='y', zorder=0,  dashes=(1,5))\n",
    "sns.barplot(data=model_compare)\n",
    "ax1.set_xlabel(\"\")\n",
    "ax1.set_ylabel(\"\")\n",
    "\n",
    "# Show values on bars\n",
    "def show_values_on_bars(axs):\n",
    "    def _show_on_single_plot(ax):        \n",
    "        for p in ax.patches:\n",
    "            _x = p.get_x() + p.get_width() / 2\n",
    "            _y = p.get_y() + p.get_height()\n",
    "            value = '{:.5f}'.format(p.get_height())\n",
    "            ax.text(_x, _y, value, ha=\"center\") \n",
    "\n",
    "    if isinstance(axs, np.ndarray):\n",
    "        for idx, ax in np.ndenumerate(axs):\n",
    "            _show_on_single_plot(ax)\n",
    "    else:\n",
    "        _show_on_single_plot(axs)\n",
    "\n",
    "show_values_on_bars(ax1)\n",
    "\n",
    "ax0.spines[\"top\"].set_visible(False)\n",
    "ax0.spines[\"left\"].set_visible(False)\n",
    "ax0.spines[\"bottom\"].set_visible(False)\n",
    "ax0.spines[\"right\"].set_visible(False)\n",
    "ax1.spines[\"top\"].set_visible(False)\n",
    "ax1.spines[\"left\"].set_visible(False)\n",
    "ax1.spines[\"right\"].set_visible(False)"
   ]
  },
  {
   "cell_type": "markdown",
   "metadata": {},
   "source": [
    "### 9. Hyperparameter tuning and cross-validation <a id=24></a>\n",
    "[back to top](#99)\n",
    "\n",
    "To test different hyperparameters, we could use a **validation set** but since I don't have much data, I will use **cross-validation**."
   ]
  },
  {
   "cell_type": "markdown",
   "metadata": {},
   "source": [
    "#### 9.1 Tuning KNeighborsClassifier by hand <a id=25></a>\n",
    "\n",
    "There's one main hyperparameter we can tune for the K-Nearest Neighbors (KNN) algorithm, and that is number of neighbours. The default is 5 (`n_neigbors=5`).\n",
    "\n",
    "In this case I want to check is there a value between 1 and 20 for number of neighbours I can use to get better KNN score result."
   ]
  },
  {
   "cell_type": "code",
   "execution_count": 46,
   "metadata": {},
   "outputs": [],
   "source": [
    "# Create a list of train scores\n",
    "train_scores = []\n",
    "\n",
    "# Create a list of val scores\n",
    "val_scores = []\n",
    "\n",
    "# Create a list of different values for n_neighbors\n",
    "neighbors = range(1, 21) # 1 to 20\n",
    "\n",
    "# Setup algorithm\n",
    "knn = KNeighborsClassifier()\n",
    "\n",
    "# Loop through different neighbors values\n",
    "for i in neighbors:\n",
    "    knn.set_params(n_neighbors = i) # set neighbors value\n",
    "    \n",
    "    # Fit the algorithm\n",
    "    knn.fit(X_train, y_train)\n",
    "    \n",
    "    # Update the training scores\n",
    "    train_scores.append(knn.score(X_train, y_train))\n",
    "    \n",
    "    # Update the val scores\n",
    "    val_scores.append(knn.score(X_val, y_val))\n",
    "\n",
    "# Calculate max score\n",
    "max_score = round(max(val_scores)*100, 2)"
   ]
  },
  {
   "cell_type": "code",
   "execution_count": 47,
   "metadata": {},
   "outputs": [
    {
     "data": {
      "image/png": "[encoded data removed]",
      "text/plain": [
       "<Figure size 1296x504 with 2 Axes>"
      ]
     },
     "metadata": {},
     "output_type": "display_data"
    }
   ],
   "source": [
    "sns.set_theme(style=\"whitegrid\", palette=\"pastel\")\n",
    "\n",
    "fig, (ax0, ax1) = plt.subplots(nrows=1,\n",
    "                               ncols=2,\n",
    "                               figsize=(18, 7))\n",
    "\n",
    "ax0.text(0.5,0.5,\"K-Nearest Neighbors\\n___________\",\n",
    "        horizontalalignment = 'center',\n",
    "        verticalalignment = 'center',\n",
    "        fontsize = 18,\n",
    "        fontweight='bold',\n",
    "        color='#000000')\n",
    "\n",
    "max_text = \"Maximum KNN score on the val data:\"\n",
    "max_perc = \"%\"\n",
    "completeText = [max_text, max_score, max_perc]\n",
    "\n",
    "textIn = ''.join(map(str, completeText))\n",
    "\n",
    "ax0.text(0.5, 0.3, textIn ,\n",
    "         horizontalalignment = 'center',\n",
    "         verticalalignment = 'center',\n",
    "         fontsize = 18,\n",
    "         fontweight='bold',\n",
    "         color='#000000')\n",
    "\n",
    "ax0.set_xticklabels([])\n",
    "ax0.set_yticklabels([])\n",
    "ax0.tick_params(left=False, bottom=False)\n",
    "ax0.grid(False)\n",
    "\n",
    "ax1.set(ylim=(0.5, 1))\n",
    "ax1.set(xlim=(0, 20))\n",
    "ax1.grid(False)\n",
    "ax1.grid(color='#000000', linestyle=':', axis='y', zorder=0,  dashes=(1,5))\n",
    "ax1.grid(color='#000000', linestyle=':', axis='x', zorder=0,  dashes=(1,5))\n",
    "sns.lineplot(data=train_scores)\n",
    "sns.lineplot(data=val_scores)\n",
    "ax1.set_xlabel(\"\")\n",
    "ax1.set_ylabel(\"\")\n",
    "plt.xticks(np.arange(0, 20, step=1))\n",
    "\n",
    "ax0.spines[\"top\"].set_visible(False)\n",
    "ax0.spines[\"left\"].set_visible(False)\n",
    "ax0.spines[\"bottom\"].set_visible(False)\n",
    "ax0.spines[\"right\"].set_visible(False)\n",
    "ax1.spines[\"top\"].set_visible(False)\n",
    "ax1.spines[\"left\"].set_visible(False)\n",
    "ax1.spines[\"right\"].set_visible(False)"
   ]
  },
  {
   "cell_type": "markdown",
   "metadata": {},
   "source": [
    "Looking at the graph,`n_neighbors = 14` seems best.\n",
    "\n",
    "Even knowing this, the `KNN`'s model performance didn't get near what `LogisticRegression` or the `RandomForestClassifier` did.\n",
    "\n",
    "Because of this, I will discard `KNN` and focus on the other two.\n",
    "\n",
    "We've tuned `KNN` by hand but let's see how we can `LogisticsRegression` and `RandomForestClassifier` using [`RandomizedSearchCV`](https://scikit-learn.org/stable/modules/generated/sklearn.model_selection.RandomizedSearchCV.html).\n",
    "\n",
    "Instead of us having to manually try different hyperparameters by hand, `RandomizedSearchCV` tries a number of different combinations, evaluates them and saves the best."
   ]
  },
  {
   "cell_type": "markdown",
   "metadata": {},
   "source": [
    "#### 9.2 Tuning models with with [`RandomizedSearchCV`](https://scikit-learn.org/stable/modules/generated/sklearn.model_selection.RandomizedSearchCV.html)<a id=26></a>"
   ]
  },
  {
   "cell_type": "code",
   "execution_count": 48,
   "metadata": {},
   "outputs": [],
   "source": [
    "# Different LogisticRegression hyperparameters\n",
    "log_reg_grid = {\"C\": np.logspace(-4, 4, 20),\n",
    "                #\"solver\": ['newton-cg', 'lbfgs', 'liblinear', 'sag', 'saga']}\n",
    "                \"solver\": ['liblinear']}\n",
    "\n",
    "# Different RandomForestClassifier hyperparameters\n",
    "rf_grid = {\"n_estimators\": np.arange(10, 1000, 50),\n",
    "           \"max_depth\": [None, 3, 5, 10],\n",
    "           \"min_samples_split\": np.arange(2, 20, 2),\n",
    "           \"min_samples_leaf\": np.arange(1, 20, 2)}"
   ]
  },
  {
   "cell_type": "code",
   "execution_count": 49,
   "metadata": {},
   "outputs": [
    {
     "name": "stdout",
     "output_type": "stream",
     "text": [
      "Fitting 20 folds for each of 20 candidates, totalling 400 fits\n"
     ]
    },
    {
     "name": "stderr",
     "output_type": "stream",
     "text": [
      "[Parallel(n_jobs=1)]: Using backend SequentialBackend with 1 concurrent workers.\n",
      "[Parallel(n_jobs=1)]: Done 400 out of 400 | elapsed:    4.3s finished\n"
     ]
    }
   ],
   "source": [
    "# Setup random seed\n",
    "np.random.seed(10)\n",
    "\n",
    "# Setup random hyperparameter search for LogisticRegression\n",
    "rs_log_reg = RandomizedSearchCV(LogisticRegression(),\n",
    "                                param_distributions=log_reg_grid,\n",
    "                                cv=20,\n",
    "                                n_iter=1000,\n",
    "                                verbose=True)\n",
    "\n",
    "# Fit random hyperparameter search model\n",
    "rs_log_reg.fit(X_train, y_train);"
   ]
  },
  {
   "cell_type": "code",
   "execution_count": 50,
   "metadata": {},
   "outputs": [
    {
     "data": {
      "text/plain": [
       "{'solver': 'liblinear', 'C': 0.23357214690901212}"
      ]
     },
     "execution_count": 50,
     "metadata": {},
     "output_type": "execute_result"
    }
   ],
   "source": [
    "# Find the best parameters\n",
    "rs_log_reg.best_params_"
   ]
  },
  {
   "cell_type": "code",
   "execution_count": 51,
   "metadata": {},
   "outputs": [
    {
     "name": "stdout",
     "output_type": "stream",
     "text": [
      "Accuracy for LogisticRegression model using best RandomizedSearch parameters is: 0.7967479674796748\n"
     ]
    }
   ],
   "source": [
    "# Evaluate the randomized search for LogisticRegression\n",
    "print(\"Accuracy for LogisticRegression model using best RandomizedSearch parameters is:\",rs_log_reg.score(X_val, y_val))"
   ]
  },
  {
   "cell_type": "markdown",
   "metadata": {},
   "source": [
    "Now we've tuned `LogisticRegression` using `RandomizedSearchCV`, we'll do the same for `RandomForestClassifier`."
   ]
  },
  {
   "cell_type": "code",
   "execution_count": 52,
   "metadata": {},
   "outputs": [
    {
     "name": "stderr",
     "output_type": "stream",
     "text": [
      "[Parallel(n_jobs=1)]: Using backend SequentialBackend with 1 concurrent workers.\n"
     ]
    },
    {
     "name": "stdout",
     "output_type": "stream",
     "text": [
      "Fitting 5 folds for each of 20 candidates, totalling 100 fits\n"
     ]
    },
    {
     "name": "stderr",
     "output_type": "stream",
     "text": [
      "[Parallel(n_jobs=1)]: Done 100 out of 100 | elapsed:  1.5min finished\n"
     ]
    }
   ],
   "source": [
    "# Setup random seed\n",
    "np.random.seed(10)\n",
    "\n",
    "# Setup random hyperparameter search for RandomForestClassifier\n",
    "rs_rf = RandomizedSearchCV(RandomForestClassifier(),\n",
    "                           param_distributions=rf_grid,\n",
    "                           cv=5,\n",
    "                           n_iter=20,\n",
    "                           verbose=True)\n",
    "\n",
    "# Fit random hyperparameter search model\n",
    "rs_rf.fit(X_train, y_train);"
   ]
  },
  {
   "cell_type": "code",
   "execution_count": 53,
   "metadata": {},
   "outputs": [
    {
     "data": {
      "text/plain": [
       "{'n_estimators': 410,\n",
       " 'min_samples_split': 8,\n",
       " 'min_samples_leaf': 3,\n",
       " 'max_depth': 10}"
      ]
     },
     "execution_count": 53,
     "metadata": {},
     "output_type": "execute_result"
    }
   ],
   "source": [
    "# Find the best parameters\n",
    "rs_rf.best_params_"
   ]
  },
  {
   "cell_type": "code",
   "execution_count": 54,
   "metadata": {},
   "outputs": [
    {
     "name": "stdout",
     "output_type": "stream",
     "text": [
      "Accuracy for RandomForest model using best RandomizedSearch parameters is: 0.7967479674796748\n"
     ]
    }
   ],
   "source": [
    "# Evaluate the randomized search for RandomForest\n",
    "print(\"Accuracy for RandomForest model using best RandomizedSearch parameters is:\",rs_rf.score(X_val, y_val))"
   ]
  },
  {
   "cell_type": "markdown",
   "metadata": {},
   "source": [
    "#### 9.3 Tuning a models with [`GridSearchCV`](https://scikit-learn.org/stable/modules/generated/sklearn.model_selection.GridSearchCV.html) <a id=27></a>"
   ]
  },
  {
   "cell_type": "code",
   "execution_count": 55,
   "metadata": {},
   "outputs": [
    {
     "name": "stdout",
     "output_type": "stream",
     "text": [
      "Fitting 20 folds for each of 20 candidates, totalling 400 fits\n"
     ]
    },
    {
     "name": "stderr",
     "output_type": "stream",
     "text": [
      "[Parallel(n_jobs=-1)]: Using backend LokyBackend with 4 concurrent workers.\n",
      "[Parallel(n_jobs=-1)]: Done  68 tasks      | elapsed:    2.7s\n",
      "[Parallel(n_jobs=-1)]: Done 400 out of 400 | elapsed:    3.7s finished\n"
     ]
    }
   ],
   "source": [
    "# Different LogisticRegression hyperparameters\n",
    "log_reg_grid = {\"C\": np.logspace(-4, 4, 20),\n",
    "                \"solver\": ['liblinear']}\n",
    "\n",
    "# Setup grid hyperparameter search\n",
    "gs_log_reg = GridSearchCV(LogisticRegression(),\n",
    "                                param_grid=log_reg_grid,\n",
    "                                cv=20,\n",
    "                                verbose=True,\n",
    "                                n_jobs=-1)\n",
    "\n",
    "# Fit grid hyperparameter search model\n",
    "gs_log_reg.fit(X_train, y_train);"
   ]
  },
  {
   "cell_type": "code",
   "execution_count": 56,
   "metadata": {},
   "outputs": [
    {
     "data": {
      "text/plain": [
       "{'C': 0.23357214690901212, 'solver': 'liblinear'}"
      ]
     },
     "execution_count": 56,
     "metadata": {},
     "output_type": "execute_result"
    }
   ],
   "source": [
    "#Check the best parameters\n",
    "gs_log_reg.best_params_"
   ]
  },
  {
   "cell_type": "code",
   "execution_count": 57,
   "metadata": {},
   "outputs": [
    {
     "data": {
      "text/plain": [
       "0.7967479674796748"
      ]
     },
     "execution_count": 57,
     "metadata": {},
     "output_type": "execute_result"
    }
   ],
   "source": [
    "# Evaluate the grid search for LogisticRegression\n",
    "gs_log_reg.score(X_val, y_val)"
   ]
  },
  {
   "cell_type": "code",
   "execution_count": 58,
   "metadata": {},
   "outputs": [
    {
     "name": "stderr",
     "output_type": "stream",
     "text": [
      "[Parallel(n_jobs=1)]: Using backend SequentialBackend with 1 concurrent workers.\n"
     ]
    },
    {
     "name": "stdout",
     "output_type": "stream",
     "text": [
      "Fitting 5 folds for each of 100 candidates, totalling 500 fits\n"
     ]
    },
    {
     "name": "stderr",
     "output_type": "stream",
     "text": [
      "[Parallel(n_jobs=1)]: Done 500 out of 500 | elapsed:  8.6min finished\n"
     ]
    }
   ],
   "source": [
    "# Different RandomForestClassifier hyperparameters\n",
    "rf_grid = {\"n_estimators\": np.arange(450, 550, 1),\n",
    "           \"max_depth\": [5],\n",
    "           \"min_samples_split\": [8],\n",
    "           \"min_samples_leaf\": [1]}\n",
    "\n",
    "# Setup grid hyperparameter search \n",
    "gs_rf = GridSearchCV(RandomForestClassifier(),\n",
    "                          param_grid=rf_grid,\n",
    "                          cv=5,\n",
    "                          verbose=True)\n",
    "\n",
    "# Fit grid hyperparameter search model\n",
    "gs_rf.fit(X_train, y_train);"
   ]
  },
  {
   "cell_type": "code",
   "execution_count": 59,
   "metadata": {
    "scrolled": true
   },
   "outputs": [
    {
     "data": {
      "text/plain": [
       "{'max_depth': 5,\n",
       " 'min_samples_leaf': 1,\n",
       " 'min_samples_split': 8,\n",
       " 'n_estimators': 454}"
      ]
     },
     "execution_count": 59,
     "metadata": {},
     "output_type": "execute_result"
    }
   ],
   "source": [
    "# Check the best parameters\n",
    "gs_rf.best_params_"
   ]
  },
  {
   "cell_type": "code",
   "execution_count": 60,
   "metadata": {},
   "outputs": [
    {
     "data": {
      "text/plain": [
       "0.7967479674796748"
      ]
     },
     "execution_count": 60,
     "metadata": {},
     "output_type": "execute_result"
    }
   ],
   "source": [
    "# Evaluate the grid search for RandomForest\n",
    "gs_rf.score(X_val, y_val)"
   ]
  },
  {
   "cell_type": "markdown",
   "metadata": {},
   "source": [
    "### 10. Evaluation <a id=28></a>\n",
    "[back to top](#99)"
   ]
  },
  {
   "cell_type": "markdown",
   "metadata": {},
   "source": [
    "#### 10.1 Test data <a id=29></a>"
   ]
  },
  {
   "cell_type": "markdown",
   "metadata": {},
   "source": [
    "###### 10.1.1 Top 10 rows of our test data"
   ]
  },
  {
   "cell_type": "code",
   "execution_count": 61,
   "metadata": {},
   "outputs": [
    {
     "data": {
      "text/html": [
       "<div>\n",
       "<style scoped>\n",
       "    .dataframe tbody tr th:only-of-type {\n",
       "        vertical-align: middle;\n",
       "    }\n",
       "\n",
       "    .dataframe tbody tr th {\n",
       "        vertical-align: top;\n",
       "    }\n",
       "\n",
       "    .dataframe thead th {\n",
       "        text-align: right;\n",
       "    }\n",
       "</style>\n",
       "<table border=\"1\" class=\"dataframe\">\n",
       "  <thead>\n",
       "    <tr style=\"text-align: right;\">\n",
       "      <th></th>\n",
       "      <th>Loan_ID</th>\n",
       "      <th>Gender</th>\n",
       "      <th>Married</th>\n",
       "      <th>Dependents</th>\n",
       "      <th>Education</th>\n",
       "      <th>Self_Employed</th>\n",
       "      <th>ApplicantIncome</th>\n",
       "      <th>CoapplicantIncome</th>\n",
       "      <th>LoanAmount</th>\n",
       "      <th>Loan_Amount_Term</th>\n",
       "      <th>Credit_History</th>\n",
       "      <th>Property_Area</th>\n",
       "    </tr>\n",
       "  </thead>\n",
       "  <tbody>\n",
       "    <tr>\n",
       "      <th>0</th>\n",
       "      <td>LP001015</td>\n",
       "      <td>Male</td>\n",
       "      <td>Yes</td>\n",
       "      <td>0</td>\n",
       "      <td>Graduate</td>\n",
       "      <td>No</td>\n",
       "      <td>5720</td>\n",
       "      <td>0</td>\n",
       "      <td>110.0</td>\n",
       "      <td>360.0</td>\n",
       "      <td>1.0</td>\n",
       "      <td>Urban</td>\n",
       "    </tr>\n",
       "    <tr>\n",
       "      <th>1</th>\n",
       "      <td>LP001022</td>\n",
       "      <td>Male</td>\n",
       "      <td>Yes</td>\n",
       "      <td>1</td>\n",
       "      <td>Graduate</td>\n",
       "      <td>No</td>\n",
       "      <td>3076</td>\n",
       "      <td>1500</td>\n",
       "      <td>126.0</td>\n",
       "      <td>360.0</td>\n",
       "      <td>1.0</td>\n",
       "      <td>Urban</td>\n",
       "    </tr>\n",
       "    <tr>\n",
       "      <th>2</th>\n",
       "      <td>LP001031</td>\n",
       "      <td>Male</td>\n",
       "      <td>Yes</td>\n",
       "      <td>2</td>\n",
       "      <td>Graduate</td>\n",
       "      <td>No</td>\n",
       "      <td>5000</td>\n",
       "      <td>1800</td>\n",
       "      <td>208.0</td>\n",
       "      <td>360.0</td>\n",
       "      <td>1.0</td>\n",
       "      <td>Urban</td>\n",
       "    </tr>\n",
       "    <tr>\n",
       "      <th>3</th>\n",
       "      <td>LP001035</td>\n",
       "      <td>Male</td>\n",
       "      <td>Yes</td>\n",
       "      <td>2</td>\n",
       "      <td>Graduate</td>\n",
       "      <td>No</td>\n",
       "      <td>2340</td>\n",
       "      <td>2546</td>\n",
       "      <td>100.0</td>\n",
       "      <td>360.0</td>\n",
       "      <td>NaN</td>\n",
       "      <td>Urban</td>\n",
       "    </tr>\n",
       "    <tr>\n",
       "      <th>4</th>\n",
       "      <td>LP001051</td>\n",
       "      <td>Male</td>\n",
       "      <td>No</td>\n",
       "      <td>0</td>\n",
       "      <td>Not Graduate</td>\n",
       "      <td>No</td>\n",
       "      <td>3276</td>\n",
       "      <td>0</td>\n",
       "      <td>78.0</td>\n",
       "      <td>360.0</td>\n",
       "      <td>1.0</td>\n",
       "      <td>Urban</td>\n",
       "    </tr>\n",
       "    <tr>\n",
       "      <th>5</th>\n",
       "      <td>LP001054</td>\n",
       "      <td>Male</td>\n",
       "      <td>Yes</td>\n",
       "      <td>0</td>\n",
       "      <td>Not Graduate</td>\n",
       "      <td>Yes</td>\n",
       "      <td>2165</td>\n",
       "      <td>3422</td>\n",
       "      <td>152.0</td>\n",
       "      <td>360.0</td>\n",
       "      <td>1.0</td>\n",
       "      <td>Urban</td>\n",
       "    </tr>\n",
       "    <tr>\n",
       "      <th>6</th>\n",
       "      <td>LP001055</td>\n",
       "      <td>Female</td>\n",
       "      <td>No</td>\n",
       "      <td>1</td>\n",
       "      <td>Not Graduate</td>\n",
       "      <td>No</td>\n",
       "      <td>2226</td>\n",
       "      <td>0</td>\n",
       "      <td>59.0</td>\n",
       "      <td>360.0</td>\n",
       "      <td>1.0</td>\n",
       "      <td>Semiurban</td>\n",
       "    </tr>\n",
       "    <tr>\n",
       "      <th>7</th>\n",
       "      <td>LP001056</td>\n",
       "      <td>Male</td>\n",
       "      <td>Yes</td>\n",
       "      <td>2</td>\n",
       "      <td>Not Graduate</td>\n",
       "      <td>No</td>\n",
       "      <td>3881</td>\n",
       "      <td>0</td>\n",
       "      <td>147.0</td>\n",
       "      <td>360.0</td>\n",
       "      <td>0.0</td>\n",
       "      <td>Rural</td>\n",
       "    </tr>\n",
       "    <tr>\n",
       "      <th>8</th>\n",
       "      <td>LP001059</td>\n",
       "      <td>Male</td>\n",
       "      <td>Yes</td>\n",
       "      <td>2</td>\n",
       "      <td>Graduate</td>\n",
       "      <td>NaN</td>\n",
       "      <td>13633</td>\n",
       "      <td>0</td>\n",
       "      <td>280.0</td>\n",
       "      <td>240.0</td>\n",
       "      <td>1.0</td>\n",
       "      <td>Urban</td>\n",
       "    </tr>\n",
       "    <tr>\n",
       "      <th>9</th>\n",
       "      <td>LP001067</td>\n",
       "      <td>Male</td>\n",
       "      <td>No</td>\n",
       "      <td>0</td>\n",
       "      <td>Not Graduate</td>\n",
       "      <td>No</td>\n",
       "      <td>2400</td>\n",
       "      <td>2400</td>\n",
       "      <td>123.0</td>\n",
       "      <td>360.0</td>\n",
       "      <td>1.0</td>\n",
       "      <td>Semiurban</td>\n",
       "    </tr>\n",
       "  </tbody>\n",
       "</table>\n",
       "</div>"
      ],
      "text/plain": [
       "    Loan_ID  Gender Married Dependents     Education Self_Employed  \\\n",
       "0  LP001015    Male     Yes          0      Graduate            No   \n",
       "1  LP001022    Male     Yes          1      Graduate            No   \n",
       "2  LP001031    Male     Yes          2      Graduate            No   \n",
       "3  LP001035    Male     Yes          2      Graduate            No   \n",
       "4  LP001051    Male      No          0  Not Graduate            No   \n",
       "5  LP001054    Male     Yes          0  Not Graduate           Yes   \n",
       "6  LP001055  Female      No          1  Not Graduate            No   \n",
       "7  LP001056    Male     Yes          2  Not Graduate            No   \n",
       "8  LP001059    Male     Yes          2      Graduate           NaN   \n",
       "9  LP001067    Male      No          0  Not Graduate            No   \n",
       "\n",
       "   ApplicantIncome  CoapplicantIncome  LoanAmount  Loan_Amount_Term  \\\n",
       "0             5720                  0       110.0             360.0   \n",
       "1             3076               1500       126.0             360.0   \n",
       "2             5000               1800       208.0             360.0   \n",
       "3             2340               2546       100.0             360.0   \n",
       "4             3276                  0        78.0             360.0   \n",
       "5             2165               3422       152.0             360.0   \n",
       "6             2226                  0        59.0             360.0   \n",
       "7             3881                  0       147.0             360.0   \n",
       "8            13633                  0       280.0             240.0   \n",
       "9             2400               2400       123.0             360.0   \n",
       "\n",
       "   Credit_History Property_Area  \n",
       "0             1.0         Urban  \n",
       "1             1.0         Urban  \n",
       "2             1.0         Urban  \n",
       "3             NaN         Urban  \n",
       "4             1.0         Urban  \n",
       "5             1.0         Urban  \n",
       "6             1.0     Semiurban  \n",
       "7             0.0         Rural  \n",
       "8             1.0         Urban  \n",
       "9             1.0     Semiurban  "
      ]
     },
     "execution_count": 61,
     "metadata": {},
     "output_type": "execute_result"
    }
   ],
   "source": [
    "test_df.head(10)"
   ]
  },
  {
   "cell_type": "markdown",
   "metadata": {},
   "source": [
    "##### 10.1.2 The shape of the data"
   ]
  },
  {
   "cell_type": "code",
   "execution_count": 62,
   "metadata": {},
   "outputs": [
    {
     "name": "stdout",
     "output_type": "stream",
     "text": [
      "The shape of the test dataset is :  (367, 12)\n"
     ]
    }
   ],
   "source": [
    "print(\"The shape of the test dataset is : \", test_df.shape)"
   ]
  },
  {
   "cell_type": "markdown",
   "metadata": {},
   "source": [
    "##### 10.1.3 Missing values"
   ]
  },
  {
   "cell_type": "code",
   "execution_count": 63,
   "metadata": {},
   "outputs": [
    {
     "data": {
      "text/plain": [
       "Loan_ID               0\n",
       "Gender               11\n",
       "Married               0\n",
       "Dependents           10\n",
       "Education             0\n",
       "Self_Employed        23\n",
       "ApplicantIncome       0\n",
       "CoapplicantIncome     0\n",
       "LoanAmount            5\n",
       "Loan_Amount_Term      6\n",
       "Credit_History       29\n",
       "Property_Area         0\n",
       "dtype: int64"
      ]
     },
     "execution_count": 63,
     "metadata": {},
     "output_type": "execute_result"
    }
   ],
   "source": [
    "test_df.isnull().sum()"
   ]
  },
  {
   "cell_type": "markdown",
   "metadata": {},
   "source": [
    "##### 10.1.4 Data types"
   ]
  },
  {
   "cell_type": "code",
   "execution_count": 64,
   "metadata": {},
   "outputs": [
    {
     "data": {
      "text/plain": [
       "Loan_ID               object\n",
       "Gender                object\n",
       "Married               object\n",
       "Dependents            object\n",
       "Education             object\n",
       "Self_Employed         object\n",
       "ApplicantIncome        int64\n",
       "CoapplicantIncome      int64\n",
       "LoanAmount           float64\n",
       "Loan_Amount_Term     float64\n",
       "Credit_History       float64\n",
       "Property_Area         object\n",
       "dtype: object"
      ]
     },
     "execution_count": 64,
     "metadata": {},
     "output_type": "execute_result"
    }
   ],
   "source": [
    "test_df.dtypes"
   ]
  },
  {
   "cell_type": "markdown",
   "metadata": {},
   "source": [
    "#### 10.2 Convert strings to Categories <a id=30></a>"
   ]
  },
  {
   "cell_type": "markdown",
   "metadata": {},
   "source": [
    "##### 10.2.1 Check which columns contain strings"
   ]
  },
  {
   "cell_type": "code",
   "execution_count": 65,
   "metadata": {},
   "outputs": [
    {
     "name": "stdout",
     "output_type": "stream",
     "text": [
      "Loan_ID\n",
      "Gender\n",
      "Married\n",
      "Dependents\n",
      "Education\n",
      "Self_Employed\n",
      "Property_Area\n"
     ]
    }
   ],
   "source": [
    "for label, content in test_df.items():\n",
    "    if pd.api.types.is_string_dtype(content):\n",
    "        print(label)"
   ]
  },
  {
   "cell_type": "markdown",
   "metadata": {},
   "source": [
    "##### 10.2.2 Turn all of the string values into category values"
   ]
  },
  {
   "cell_type": "code",
   "execution_count": 66,
   "metadata": {},
   "outputs": [],
   "source": [
    "for label, content in test_df.items():\n",
    "    if pd.api.types.is_string_dtype(content):\n",
    "        test_df[label] = content.astype(\"category\").cat.as_ordered()"
   ]
  },
  {
   "cell_type": "code",
   "execution_count": 67,
   "metadata": {},
   "outputs": [
    {
     "name": "stdout",
     "output_type": "stream",
     "text": [
      "<class 'pandas.core.frame.DataFrame'>\n",
      "RangeIndex: 367 entries, 0 to 366\n",
      "Data columns (total 12 columns):\n",
      " #   Column             Non-Null Count  Dtype   \n",
      "---  ------             --------------  -----   \n",
      " 0   Loan_ID            367 non-null    category\n",
      " 1   Gender             356 non-null    category\n",
      " 2   Married            367 non-null    category\n",
      " 3   Dependents         357 non-null    category\n",
      " 4   Education          367 non-null    category\n",
      " 5   Self_Employed      344 non-null    category\n",
      " 6   ApplicantIncome    367 non-null    int64   \n",
      " 7   CoapplicantIncome  367 non-null    int64   \n",
      " 8   LoanAmount         362 non-null    float64 \n",
      " 9   Loan_Amount_Term   361 non-null    float64 \n",
      " 10  Credit_History     338 non-null    float64 \n",
      " 11  Property_Area      367 non-null    category\n",
      "dtypes: category(7), float64(3), int64(2)\n",
      "memory usage: 30.9 KB\n"
     ]
    }
   ],
   "source": [
    "test_df.info() "
   ]
  },
  {
   "cell_type": "markdown",
   "metadata": {},
   "source": [
    "#### 10.3 Fill missing values <a id=31></a>"
   ]
  },
  {
   "cell_type": "markdown",
   "metadata": {},
   "source": [
    "##### 10.3.1 Fill numerical values"
   ]
  },
  {
   "cell_type": "markdown",
   "metadata": {},
   "source": [
    "###### 10.3.1.1 Check which columns are numeric"
   ]
  },
  {
   "cell_type": "code",
   "execution_count": 68,
   "metadata": {},
   "outputs": [
    {
     "name": "stdout",
     "output_type": "stream",
     "text": [
      "ApplicantIncome\n",
      "CoapplicantIncome\n",
      "LoanAmount\n",
      "Loan_Amount_Term\n",
      "Credit_History\n"
     ]
    }
   ],
   "source": [
    "for label, content in test_df.items():\n",
    "    if pd.api.types.is_numeric_dtype(content):\n",
    "        print(label)"
   ]
  },
  {
   "cell_type": "markdown",
   "metadata": {},
   "source": [
    "###### 10.3.1.2 Check for which numeric columns have null values"
   ]
  },
  {
   "cell_type": "code",
   "execution_count": 69,
   "metadata": {},
   "outputs": [
    {
     "name": "stdout",
     "output_type": "stream",
     "text": [
      "LoanAmount\n",
      "Loan_Amount_Term\n",
      "Credit_History\n"
     ]
    }
   ],
   "source": [
    "for label, content in test_df.items():\n",
    "    if pd.api.types.is_numeric_dtype(content):\n",
    "        if pd.isnull(content).sum():\n",
    "            print(label)"
   ]
  },
  {
   "cell_type": "markdown",
   "metadata": {},
   "source": [
    "* We're going to fill LoanAmount with the median of that column. \n",
    "* Because the highest percent of people has a Loan Term Amount of 360 I will fill that column with that value.\n",
    "* Credit_History column shows that most of the people had credits before so I will fill that column with 1."
   ]
  },
  {
   "cell_type": "markdown",
   "metadata": {},
   "source": [
    "###### 10.3.1.3 Fill numeric values"
   ]
  },
  {
   "cell_type": "code",
   "execution_count": 70,
   "metadata": {},
   "outputs": [],
   "source": [
    "test_df['LoanAmount'] = test_df['LoanAmount'].fillna((test_df['LoanAmount'].mean()))\n",
    "test_df['Loan_Amount_Term'] = test_df['Loan_Amount_Term'].fillna(value = 360)\n",
    "test_df['Credit_History'] = test_df['Credit_History'].fillna(value = 1)"
   ]
  },
  {
   "cell_type": "markdown",
   "metadata": {},
   "source": [
    "###### 10.3.1.4 Check again if there is any null values"
   ]
  },
  {
   "cell_type": "code",
   "execution_count": 71,
   "metadata": {},
   "outputs": [],
   "source": [
    "for label, content in test_df.items():\n",
    "    if pd.api.types.is_numeric_dtype(content):\n",
    "        if pd.isnull(content).sum():\n",
    "            print(label)"
   ]
  },
  {
   "cell_type": "markdown",
   "metadata": {},
   "source": [
    "##### 10.3.2 Filling and turning categorical variables to numbers"
   ]
  },
  {
   "cell_type": "markdown",
   "metadata": {},
   "source": [
    "###### 10.3.2.1 Check columns which are not numeric"
   ]
  },
  {
   "cell_type": "code",
   "execution_count": 72,
   "metadata": {},
   "outputs": [
    {
     "name": "stdout",
     "output_type": "stream",
     "text": [
      "Loan_ID\n",
      "Gender\n",
      "Married\n",
      "Dependents\n",
      "Education\n",
      "Self_Employed\n",
      "Property_Area\n"
     ]
    }
   ],
   "source": [
    "for label, content in test_df.items():\n",
    "    if not pd.api.types.is_numeric_dtype(content):\n",
    "        print(label)"
   ]
  },
  {
   "cell_type": "markdown",
   "metadata": {},
   "source": [
    "###### 10.3.2.2 Turn all categorical columns to numeric"
   ]
  },
  {
   "cell_type": "code",
   "execution_count": 73,
   "metadata": {},
   "outputs": [],
   "source": [
    "for label, content in test_df.items():\n",
    "    # Check columns which aren't numeric\n",
    "    if not pd.api.types.is_numeric_dtype(content):\n",
    "        # Add binary column to inidicate whether sample had missing value\n",
    "        test_df[label+\"_is_missing\"] = pd.isnull(content)\n",
    "        # We add the +1 because pandas encodes missing categories as -1\n",
    "        test_df[label] = pd.Categorical(content).codes+1"
   ]
  },
  {
   "cell_type": "markdown",
   "metadata": {},
   "source": [
    "###### 10.3.2.3 Check our DataFrame data types"
   ]
  },
  {
   "cell_type": "code",
   "execution_count": 74,
   "metadata": {},
   "outputs": [
    {
     "name": "stdout",
     "output_type": "stream",
     "text": [
      "<class 'pandas.core.frame.DataFrame'>\n",
      "RangeIndex: 367 entries, 0 to 366\n",
      "Data columns (total 19 columns):\n",
      " #   Column                    Non-Null Count  Dtype  \n",
      "---  ------                    --------------  -----  \n",
      " 0   Loan_ID                   367 non-null    int16  \n",
      " 1   Gender                    367 non-null    int8   \n",
      " 2   Married                   367 non-null    int8   \n",
      " 3   Dependents                367 non-null    int8   \n",
      " 4   Education                 367 non-null    int8   \n",
      " 5   Self_Employed             367 non-null    int8   \n",
      " 6   ApplicantIncome           367 non-null    int64  \n",
      " 7   CoapplicantIncome         367 non-null    int64  \n",
      " 8   LoanAmount                367 non-null    float64\n",
      " 9   Loan_Amount_Term          367 non-null    float64\n",
      " 10  Credit_History            367 non-null    float64\n",
      " 11  Property_Area             367 non-null    int8   \n",
      " 12  Loan_ID_is_missing        367 non-null    bool   \n",
      " 13  Gender_is_missing         367 non-null    bool   \n",
      " 14  Married_is_missing        367 non-null    bool   \n",
      " 15  Dependents_is_missing     367 non-null    bool   \n",
      " 16  Education_is_missing      367 non-null    bool   \n",
      " 17  Self_Employed_is_missing  367 non-null    bool   \n",
      " 18  Property_Area_is_missing  367 non-null    bool   \n",
      "dtypes: bool(7), float64(3), int16(1), int64(2), int8(6)\n",
      "memory usage: 19.8 KB\n"
     ]
    }
   ],
   "source": [
    "test_df.info()"
   ]
  },
  {
   "cell_type": "markdown",
   "metadata": {},
   "source": [
    "###### 10.3.2.4 Missing values"
   ]
  },
  {
   "cell_type": "code",
   "execution_count": 75,
   "metadata": {},
   "outputs": [
    {
     "data": {
      "text/plain": [
       "Loan_ID                     0\n",
       "Gender                      0\n",
       "Married                     0\n",
       "Dependents                  0\n",
       "Education                   0\n",
       "Self_Employed               0\n",
       "ApplicantIncome             0\n",
       "CoapplicantIncome           0\n",
       "LoanAmount                  0\n",
       "Loan_Amount_Term            0\n",
       "Credit_History              0\n",
       "Property_Area               0\n",
       "Loan_ID_is_missing          0\n",
       "Gender_is_missing           0\n",
       "Married_is_missing          0\n",
       "Dependents_is_missing       0\n",
       "Education_is_missing        0\n",
       "Self_Employed_is_missing    0\n",
       "Property_Area_is_missing    0\n",
       "dtype: int64"
      ]
     },
     "execution_count": 75,
     "metadata": {},
     "output_type": "execute_result"
    }
   ],
   "source": [
    "test_df.isna().sum()"
   ]
  },
  {
   "cell_type": "code",
   "execution_count": 76,
   "metadata": {},
   "outputs": [
    {
     "name": "stdout",
     "output_type": "stream",
     "text": [
      "<class 'pandas.core.frame.DataFrame'>\n",
      "RangeIndex: 367 entries, 0 to 366\n",
      "Data columns (total 19 columns):\n",
      " #   Column                    Non-Null Count  Dtype  \n",
      "---  ------                    --------------  -----  \n",
      " 0   Loan_ID                   367 non-null    int16  \n",
      " 1   Gender                    367 non-null    int8   \n",
      " 2   Married                   367 non-null    int8   \n",
      " 3   Dependents                367 non-null    int8   \n",
      " 4   Education                 367 non-null    int8   \n",
      " 5   Self_Employed             367 non-null    int8   \n",
      " 6   ApplicantIncome           367 non-null    int64  \n",
      " 7   CoapplicantIncome         367 non-null    int64  \n",
      " 8   LoanAmount                367 non-null    float64\n",
      " 9   Loan_Amount_Term          367 non-null    float64\n",
      " 10  Credit_History            367 non-null    float64\n",
      " 11  Property_Area             367 non-null    int8   \n",
      " 12  Loan_ID_is_missing        367 non-null    bool   \n",
      " 13  Gender_is_missing         367 non-null    bool   \n",
      " 14  Married_is_missing        367 non-null    bool   \n",
      " 15  Dependents_is_missing     367 non-null    bool   \n",
      " 16  Education_is_missing      367 non-null    bool   \n",
      " 17  Self_Employed_is_missing  367 non-null    bool   \n",
      " 18  Property_Area_is_missing  367 non-null    bool   \n",
      "dtypes: bool(7), float64(3), int16(1), int64(2), int8(6)\n",
      "memory usage: 19.8 KB\n"
     ]
    }
   ],
   "source": [
    "test_df.info()"
   ]
  },
  {
   "cell_type": "code",
   "execution_count": 77,
   "metadata": {},
   "outputs": [
    {
     "data": {
      "text/html": [
       "<div>\n",
       "<style scoped>\n",
       "    .dataframe tbody tr th:only-of-type {\n",
       "        vertical-align: middle;\n",
       "    }\n",
       "\n",
       "    .dataframe tbody tr th {\n",
       "        vertical-align: top;\n",
       "    }\n",
       "\n",
       "    .dataframe thead th {\n",
       "        text-align: right;\n",
       "    }\n",
       "</style>\n",
       "<table border=\"1\" class=\"dataframe\">\n",
       "  <thead>\n",
       "    <tr style=\"text-align: right;\">\n",
       "      <th></th>\n",
       "      <th>Loan_ID</th>\n",
       "      <th>Gender</th>\n",
       "      <th>Married</th>\n",
       "      <th>Dependents</th>\n",
       "      <th>Education</th>\n",
       "      <th>Self_Employed</th>\n",
       "      <th>ApplicantIncome</th>\n",
       "      <th>CoapplicantIncome</th>\n",
       "      <th>LoanAmount</th>\n",
       "      <th>Loan_Amount_Term</th>\n",
       "      <th>Credit_History</th>\n",
       "      <th>Property_Area</th>\n",
       "      <th>Loan_ID_is_missing</th>\n",
       "      <th>Gender_is_missing</th>\n",
       "      <th>Married_is_missing</th>\n",
       "      <th>Dependents_is_missing</th>\n",
       "      <th>Education_is_missing</th>\n",
       "      <th>Self_Employed_is_missing</th>\n",
       "      <th>Property_Area_is_missing</th>\n",
       "    </tr>\n",
       "  </thead>\n",
       "  <tbody>\n",
       "    <tr>\n",
       "      <th>0</th>\n",
       "      <td>1</td>\n",
       "      <td>2</td>\n",
       "      <td>2</td>\n",
       "      <td>1</td>\n",
       "      <td>1</td>\n",
       "      <td>1</td>\n",
       "      <td>5720</td>\n",
       "      <td>0</td>\n",
       "      <td>110.0</td>\n",
       "      <td>360.0</td>\n",
       "      <td>1.0</td>\n",
       "      <td>3</td>\n",
       "      <td>False</td>\n",
       "      <td>False</td>\n",
       "      <td>False</td>\n",
       "      <td>False</td>\n",
       "      <td>False</td>\n",
       "      <td>False</td>\n",
       "      <td>False</td>\n",
       "    </tr>\n",
       "    <tr>\n",
       "      <th>1</th>\n",
       "      <td>2</td>\n",
       "      <td>2</td>\n",
       "      <td>2</td>\n",
       "      <td>2</td>\n",
       "      <td>1</td>\n",
       "      <td>1</td>\n",
       "      <td>3076</td>\n",
       "      <td>1500</td>\n",
       "      <td>126.0</td>\n",
       "      <td>360.0</td>\n",
       "      <td>1.0</td>\n",
       "      <td>3</td>\n",
       "      <td>False</td>\n",
       "      <td>False</td>\n",
       "      <td>False</td>\n",
       "      <td>False</td>\n",
       "      <td>False</td>\n",
       "      <td>False</td>\n",
       "      <td>False</td>\n",
       "    </tr>\n",
       "    <tr>\n",
       "      <th>2</th>\n",
       "      <td>3</td>\n",
       "      <td>2</td>\n",
       "      <td>2</td>\n",
       "      <td>3</td>\n",
       "      <td>1</td>\n",
       "      <td>1</td>\n",
       "      <td>5000</td>\n",
       "      <td>1800</td>\n",
       "      <td>208.0</td>\n",
       "      <td>360.0</td>\n",
       "      <td>1.0</td>\n",
       "      <td>3</td>\n",
       "      <td>False</td>\n",
       "      <td>False</td>\n",
       "      <td>False</td>\n",
       "      <td>False</td>\n",
       "      <td>False</td>\n",
       "      <td>False</td>\n",
       "      <td>False</td>\n",
       "    </tr>\n",
       "    <tr>\n",
       "      <th>3</th>\n",
       "      <td>4</td>\n",
       "      <td>2</td>\n",
       "      <td>2</td>\n",
       "      <td>3</td>\n",
       "      <td>1</td>\n",
       "      <td>1</td>\n",
       "      <td>2340</td>\n",
       "      <td>2546</td>\n",
       "      <td>100.0</td>\n",
       "      <td>360.0</td>\n",
       "      <td>1.0</td>\n",
       "      <td>3</td>\n",
       "      <td>False</td>\n",
       "      <td>False</td>\n",
       "      <td>False</td>\n",
       "      <td>False</td>\n",
       "      <td>False</td>\n",
       "      <td>False</td>\n",
       "      <td>False</td>\n",
       "    </tr>\n",
       "    <tr>\n",
       "      <th>4</th>\n",
       "      <td>5</td>\n",
       "      <td>2</td>\n",
       "      <td>1</td>\n",
       "      <td>1</td>\n",
       "      <td>2</td>\n",
       "      <td>1</td>\n",
       "      <td>3276</td>\n",
       "      <td>0</td>\n",
       "      <td>78.0</td>\n",
       "      <td>360.0</td>\n",
       "      <td>1.0</td>\n",
       "      <td>3</td>\n",
       "      <td>False</td>\n",
       "      <td>False</td>\n",
       "      <td>False</td>\n",
       "      <td>False</td>\n",
       "      <td>False</td>\n",
       "      <td>False</td>\n",
       "      <td>False</td>\n",
       "    </tr>\n",
       "  </tbody>\n",
       "</table>\n",
       "</div>"
      ],
      "text/plain": [
       "   Loan_ID  Gender  Married  Dependents  Education  Self_Employed  \\\n",
       "0        1       2        2           1          1              1   \n",
       "1        2       2        2           2          1              1   \n",
       "2        3       2        2           3          1              1   \n",
       "3        4       2        2           3          1              1   \n",
       "4        5       2        1           1          2              1   \n",
       "\n",
       "   ApplicantIncome  CoapplicantIncome  LoanAmount  Loan_Amount_Term  \\\n",
       "0             5720                  0       110.0             360.0   \n",
       "1             3076               1500       126.0             360.0   \n",
       "2             5000               1800       208.0             360.0   \n",
       "3             2340               2546       100.0             360.0   \n",
       "4             3276                  0        78.0             360.0   \n",
       "\n",
       "   Credit_History  Property_Area  Loan_ID_is_missing  Gender_is_missing  \\\n",
       "0             1.0              3               False              False   \n",
       "1             1.0              3               False              False   \n",
       "2             1.0              3               False              False   \n",
       "3             1.0              3               False              False   \n",
       "4             1.0              3               False              False   \n",
       "\n",
       "   Married_is_missing  Dependents_is_missing  Education_is_missing  \\\n",
       "0               False                  False                 False   \n",
       "1               False                  False                 False   \n",
       "2               False                  False                 False   \n",
       "3               False                  False                 False   \n",
       "4               False                  False                 False   \n",
       "\n",
       "   Self_Employed_is_missing  Property_Area_is_missing  \n",
       "0                     False                     False  \n",
       "1                     False                     False  \n",
       "2                     False                     False  \n",
       "3                     False                     False  \n",
       "4                     False                     False  "
      ]
     },
     "execution_count": 77,
     "metadata": {},
     "output_type": "execute_result"
    }
   ],
   "source": [
    "test_df.head()"
   ]
  },
  {
   "cell_type": "markdown",
   "metadata": {},
   "source": [
    "#### 10.4 Making submissions <a id=32></a>"
   ]
  },
  {
   "cell_type": "markdown",
   "metadata": {},
   "source": [
    "##### 10.4.1 Splitting data"
   ]
  },
  {
   "cell_type": "code",
   "execution_count": 78,
   "metadata": {},
   "outputs": [],
   "source": [
    "df_test_true = test_df.loc[:, :'Property_Area']\n",
    "loanID= df_test_true['Loan_ID']\n",
    "testing_df=df_test_true"
   ]
  },
  {
   "cell_type": "markdown",
   "metadata": {},
   "source": [
    "##### 10.4.2 The shape of the data"
   ]
  },
  {
   "cell_type": "code",
   "execution_count": 79,
   "metadata": {},
   "outputs": [
    {
     "name": "stdout",
     "output_type": "stream",
     "text": [
      "The shape of df_test_true is: (367, 12)\n",
      "The shape of testing_df is: (367, 12)\n"
     ]
    }
   ],
   "source": [
    "print(\"The shape of df_test_true is:\", df_test_true.shape)\n",
    "print(\"The shape of testing_df is:\", testing_df.shape)"
   ]
  },
  {
   "cell_type": "markdown",
   "metadata": {},
   "source": [
    "##### 10.4.3 Making predictions using test data"
   ]
  },
  {
   "cell_type": "code",
   "execution_count": 80,
   "metadata": {},
   "outputs": [
    {
     "data": {
      "text/plain": [
       "numpy.ndarray"
      ]
     },
     "execution_count": 80,
     "metadata": {},
     "output_type": "execute_result"
    }
   ],
   "source": [
    "y_pred_t=gs_log_reg.predict(testing_df)\n",
    "y_final=[]\n",
    "for y in y_pred_t:\n",
    "    if y==2:\n",
    "        y_final.append(\"Y\")\n",
    "    elif y==1:\n",
    "        y_final.append(\"N\")\n",
    "y_best=np.array(y_final)\n",
    "type(y_best)"
   ]
  },
  {
   "cell_type": "markdown",
   "metadata": {},
   "source": [
    "##### 10.4.4 Saving predictions in required format"
   ]
  },
  {
   "cell_type": "code",
   "execution_count": 81,
   "metadata": {},
   "outputs": [
    {
     "data": {
      "text/html": [
       "<div>\n",
       "<style scoped>\n",
       "    .dataframe tbody tr th:only-of-type {\n",
       "        vertical-align: middle;\n",
       "    }\n",
       "\n",
       "    .dataframe tbody tr th {\n",
       "        vertical-align: top;\n",
       "    }\n",
       "\n",
       "    .dataframe thead th {\n",
       "        text-align: right;\n",
       "    }\n",
       "</style>\n",
       "<table border=\"1\" class=\"dataframe\">\n",
       "  <thead>\n",
       "    <tr style=\"text-align: right;\">\n",
       "      <th></th>\n",
       "      <th>Loan_ID</th>\n",
       "      <th>Loan_Status</th>\n",
       "    </tr>\n",
       "  </thead>\n",
       "  <tbody>\n",
       "    <tr>\n",
       "      <th>0</th>\n",
       "      <td>1</td>\n",
       "      <td>Y</td>\n",
       "    </tr>\n",
       "    <tr>\n",
       "      <th>1</th>\n",
       "      <td>2</td>\n",
       "      <td>Y</td>\n",
       "    </tr>\n",
       "    <tr>\n",
       "      <th>2</th>\n",
       "      <td>3</td>\n",
       "      <td>Y</td>\n",
       "    </tr>\n",
       "    <tr>\n",
       "      <th>3</th>\n",
       "      <td>4</td>\n",
       "      <td>Y</td>\n",
       "    </tr>\n",
       "    <tr>\n",
       "      <th>4</th>\n",
       "      <td>5</td>\n",
       "      <td>Y</td>\n",
       "    </tr>\n",
       "    <tr>\n",
       "      <th>5</th>\n",
       "      <td>6</td>\n",
       "      <td>Y</td>\n",
       "    </tr>\n",
       "    <tr>\n",
       "      <th>6</th>\n",
       "      <td>7</td>\n",
       "      <td>Y</td>\n",
       "    </tr>\n",
       "    <tr>\n",
       "      <th>7</th>\n",
       "      <td>8</td>\n",
       "      <td>N</td>\n",
       "    </tr>\n",
       "    <tr>\n",
       "      <th>8</th>\n",
       "      <td>9</td>\n",
       "      <td>Y</td>\n",
       "    </tr>\n",
       "    <tr>\n",
       "      <th>9</th>\n",
       "      <td>10</td>\n",
       "      <td>Y</td>\n",
       "    </tr>\n",
       "  </tbody>\n",
       "</table>\n",
       "</div>"
      ],
      "text/plain": [
       "   Loan_ID Loan_Status\n",
       "0        1           Y\n",
       "1        2           Y\n",
       "2        3           Y\n",
       "3        4           Y\n",
       "4        5           Y\n",
       "5        6           Y\n",
       "6        7           Y\n",
       "7        8           N\n",
       "8        9           Y\n",
       "9       10           Y"
      ]
     },
     "execution_count": 81,
     "metadata": {},
     "output_type": "execute_result"
    }
   ],
   "source": [
    "submission = pd.DataFrame({\n",
    "        \"Loan_ID\": loanID,\n",
    "        \"Loan_Status\": y_best\n",
    "    })\n",
    "submission.head(10)"
   ]
  },
  {
   "cell_type": "markdown",
   "metadata": {},
   "source": [
    "##### 10.4.5 Exporting predictions to csv file"
   ]
  },
  {
   "cell_type": "code",
   "execution_count": 82,
   "metadata": {},
   "outputs": [],
   "source": [
    "submission.to_csv('submission.csv', index=False)"
   ]
  },
  {
   "cell_type": "markdown",
   "metadata": {},
   "source": [
    "### 11. Feature importance <a id=33></a>\n",
    "[back to top](#99)"
   ]
  },
  {
   "cell_type": "code",
   "execution_count": 83,
   "metadata": {},
   "outputs": [
    {
     "data": {
      "text/plain": [
       "{'max_depth': 5,\n",
       " 'min_samples_leaf': 1,\n",
       " 'min_samples_split': 8,\n",
       " 'n_estimators': 454}"
      ]
     },
     "execution_count": 83,
     "metadata": {},
     "output_type": "execute_result"
    }
   ],
   "source": [
    "gs_rf.best_params_"
   ]
  },
  {
   "cell_type": "code",
   "execution_count": 84,
   "metadata": {},
   "outputs": [],
   "source": [
    "clf = gs_rf = RandomForestClassifier(max_depth = 5,\n",
    "                                     min_samples_leaf = 1,\n",
    "                                     min_samples_split = 8,\n",
    "                                     n_estimators = 454)"
   ]
  },
  {
   "cell_type": "code",
   "execution_count": 85,
   "metadata": {},
   "outputs": [],
   "source": [
    "# Fit an instance of LogisticRegression (taken from above)\n",
    "clf.fit(X_train, y_train);"
   ]
  },
  {
   "cell_type": "code",
   "execution_count": 86,
   "metadata": {},
   "outputs": [
    {
     "data": {
      "text/plain": [
       "array([0.08456769, 0.01163333, 0.01287012, 0.02298749, 0.01519614,\n",
       "       0.00883503, 0.08166487, 0.07185438, 0.07469486, 0.04466923,\n",
       "       0.52084163, 0.05018522])"
      ]
     },
     "execution_count": 86,
     "metadata": {},
     "output_type": "execute_result"
    }
   ],
   "source": [
    "# Check feature importances\n",
    "clf.feature_importances_"
   ]
  },
  {
   "cell_type": "code",
   "execution_count": 87,
   "metadata": {},
   "outputs": [],
   "source": [
    "feat_importances_s = pd.Series(clf.feature_importances_, index=X.columns)"
   ]
  },
  {
   "cell_type": "code",
   "execution_count": 88,
   "metadata": {},
   "outputs": [
    {
     "data": {
      "text/html": [
       "<div>\n",
       "<style scoped>\n",
       "    .dataframe tbody tr th:only-of-type {\n",
       "        vertical-align: middle;\n",
       "    }\n",
       "\n",
       "    .dataframe tbody tr th {\n",
       "        vertical-align: top;\n",
       "    }\n",
       "\n",
       "    .dataframe thead th {\n",
       "        text-align: right;\n",
       "    }\n",
       "</style>\n",
       "<table border=\"1\" class=\"dataframe\">\n",
       "  <thead>\n",
       "    <tr style=\"text-align: right;\">\n",
       "      <th></th>\n",
       "      <th>Loan_ID</th>\n",
       "      <th>Gender</th>\n",
       "      <th>Married</th>\n",
       "      <th>Dependents</th>\n",
       "      <th>Education</th>\n",
       "      <th>Self_Employed</th>\n",
       "      <th>ApplicantIncome</th>\n",
       "      <th>CoapplicantIncome</th>\n",
       "      <th>LoanAmount</th>\n",
       "      <th>Loan_Amount_Term</th>\n",
       "      <th>Credit_History</th>\n",
       "      <th>Property_Area</th>\n",
       "    </tr>\n",
       "  </thead>\n",
       "  <tbody>\n",
       "    <tr>\n",
       "      <th>value</th>\n",
       "      <td>0.084568</td>\n",
       "      <td>0.011633</td>\n",
       "      <td>0.01287</td>\n",
       "      <td>0.022987</td>\n",
       "      <td>0.015196</td>\n",
       "      <td>0.008835</td>\n",
       "      <td>0.081665</td>\n",
       "      <td>0.071854</td>\n",
       "      <td>0.074695</td>\n",
       "      <td>0.044669</td>\n",
       "      <td>0.520842</td>\n",
       "      <td>0.050185</td>\n",
       "    </tr>\n",
       "  </tbody>\n",
       "</table>\n",
       "</div>"
      ],
      "text/plain": [
       "        Loan_ID    Gender  Married  Dependents  Education  Self_Employed  \\\n",
       "value  0.084568  0.011633  0.01287    0.022987   0.015196       0.008835   \n",
       "\n",
       "       ApplicantIncome  CoapplicantIncome  LoanAmount  Loan_Amount_Term  \\\n",
       "value         0.081665           0.071854    0.074695          0.044669   \n",
       "\n",
       "       Credit_History  Property_Area  \n",
       "value        0.520842       0.050185  "
      ]
     },
     "execution_count": 88,
     "metadata": {},
     "output_type": "execute_result"
    }
   ],
   "source": [
    "feat_importances_df = feat_importances_s.to_frame('value').T\n",
    "feat_importances_df"
   ]
  },
  {
   "cell_type": "code",
   "execution_count": 89,
   "metadata": {},
   "outputs": [
    {
     "data": {
      "image/png": "[encoded data removed]",
      "text/plain": [
       "<Figure size 1296x792 with 2 Axes>"
      ]
     },
     "metadata": {},
     "output_type": "display_data"
    }
   ],
   "source": [
    "sns.set_theme(style=\"whitegrid\", palette=\"pastel\")\n",
    "\n",
    "fig, (ax0, ax1) = plt.subplots(nrows=1,\n",
    "                               ncols=2,\n",
    "                               figsize=(18, 11))\n",
    "\n",
    "# Title of the plot\n",
    "ax0.text(0.5,0.5,\"Feature Importance\\n___________\",\n",
    "        horizontalalignment = 'center',\n",
    "        verticalalignment = 'center',\n",
    "        fontsize = 18,\n",
    "        fontweight='bold',\n",
    "        color='#000000')\n",
    "\n",
    "ax0.set_xticklabels([])\n",
    "ax0.set_yticklabels([])\n",
    "ax0.tick_params(left=False, bottom=False)\n",
    "ax0.grid(False)\n",
    "\n",
    "# Target Count\n",
    "#ax1.set(ylim=(0, 0.2))\n",
    "plt.xticks(rotation=45)\n",
    "ax1.grid(color='#000000', linestyle=':', axis='y', zorder=0,  dashes=(1,5))\n",
    "sns.barplot(data=feat_importances_df)\n",
    "ax1.set_xlabel(\"\")\n",
    "ax1.set_ylabel(\"\")\n",
    "\n",
    "# Show values on bars\n",
    "def show_values_on_bars(axs):\n",
    "    def _show_on_single_plot(ax):        \n",
    "        for p in ax.patches:\n",
    "            _x = p.get_x() + p.get_width() / 2\n",
    "            _y = p.get_y() + p.get_height()\n",
    "            value = '{:.3f}'.format(p.get_height())\n",
    "            ax.text(_x, _y, value, ha=\"center\") \n",
    "\n",
    "    if isinstance(axs, np.ndarray):\n",
    "        for idx, ax in np.ndenumerate(axs):\n",
    "            _show_on_single_plot(ax)\n",
    "    else:\n",
    "        _show_on_single_plot(axs)\n",
    "\n",
    "show_values_on_bars(ax1)\n",
    "\n",
    "ax0.spines[\"top\"].set_visible(False)\n",
    "ax0.spines[\"left\"].set_visible(False)\n",
    "ax0.spines[\"bottom\"].set_visible(False)\n",
    "ax0.spines[\"right\"].set_visible(False)\n",
    "ax1.spines[\"top\"].set_visible(False)\n",
    "ax1.spines[\"left\"].set_visible(False)\n",
    "ax1.spines[\"right\"].set_visible(False)"
   ]
  },
  {
   "cell_type": "markdown",
   "metadata": {},
   "source": [
    "<h2 align=\"center\">Thank you for reading this work!<br> Any feedback on this work would be very grateful.<br> If you liked this notebook please upvote.</h2>\n"
   ]
  },
  {
   "cell_type": "code",
   "execution_count": null,
   "metadata": {},
   "outputs": [],
   "source": []
  }
 ],
 "metadata": {
  "kernelspec": {
   "display_name": "Python 3",
   "language": "python",
   "name": "python3"
  },
  "language_info": {
   "codemirror_mode": {
    "name": "ipython",
    "version": 3
   },
   "file_extension": ".py",
   "mimetype": "text/x-python",
   "name": "python",
   "nbconvert_exporter": "python",
   "pygments_lexer": "ipython3",
   "version": "3.8.5"
  }
 },
 "nbformat": 4,
 "nbformat_minor": 4
}
